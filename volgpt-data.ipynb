{
 "cells": [
  {
   "cell_type": "code",
   "execution_count": 1,
   "metadata": {
    "tags": []
   },
   "outputs": [],
   "source": [
    "'''vol data for volgpt.ipynb\n",
    "'''\n",
    "\n",
    "import os\n",
    "import glob\n",
    "import warnings\n",
    "import pandas as pd\n",
    "import numpy as np\n",
    "# import statsmodels.api as sm\n",
    "import scipy.stats as stats\n",
    "from scipy import stats\n",
    "# from arch.unitroot import VarianceRatio\n",
    "from datetime import datetime, timedelta, date\n",
    "\n",
    "# disable warnings emitted by warnings.warn re aesthetics of post\n",
    "# warnings.filterwarnings('ignore')"
   ]
  },
  {
   "cell_type": "code",
   "execution_count": 2,
   "metadata": {
    "tags": []
   },
   "outputs": [],
   "source": [
    "# import HF datasets\n",
    "bigF = pd.read_csv(\"bigF.csv\", index_col=False, header=0, engine='python')\n",
    "bigF = bigF.drop(columns=['Unnamed: 0'])\n",
    "bigF.head()"
   ]
  },
  {
   "cell_type": "code",
   "execution_count": null,
   "metadata": {},
   "outputs": [],
   "source": [
    "# assemble time series\n",
    "\n",
    "# Set column headings for AAPL and JPM\n",
    "bigF.columns = [\"Date\",\"Ticker\",\"TimeBarStart\",\"OpenBarTime\",\"OpenBidPrice\",\n",
    "                \"OpenBidSize\",\"OpenAskPrice\",\"OpenAskSize\",\"FirstTradeTime\",\n",
    "                \"FirstTradePrice\",\"FirstTradeSize\",\"HighBidTime\",\"HighBidPrice\",\n",
    "                \"HighBidSize\",\"HighAskTime\",\"HighAskPrice\",\"HighAskSize\",\n",
    "                \"HighTradeTime\",\"HighTradePrice\",\"HighTradeSize\",\"LowBidTime\",\n",
    "                \"LowBidPrice\",\"LowBidSize\",\"LowAskTime\",\"LowAskPrice\",\n",
    "                \"LowAskSize\",\"LowTradeTime\",\"LowTradePrice\",\"LowTradeSize\",\n",
    "                \"CloseBarTime\",\"CloseBidPrice\",\"CloseBidSize\",\"CloseAskPrice\",\n",
    "                \"CloseAskSize\",\"LastTradeTime\",\"LastTradePrice\",\"LastTradeSize\",\n",
    "                \"MinSpread\",\"MaxSpread\",\"CancelSize\",\"VolumeWeightPrice\",\n",
    "                \"NBBOQuoteCount\",\"TradeAtBid\",\"TradeAtBidMid\",\"TradeAtMid\",\n",
    "                \"TradeAtMidAsk\",\"TradeAtAsk\",\"TradeAtCrossOrLocked\",\"Volume\",\n",
    "                \"TotalTrades\",\"FinraVolume\",\"FinraVolumeWeightPrice\",\n",
    "                \"UptickVolume\",\"DowntickVolume\",\"RepeatUptickVolume\",\n",
    "                \"RepeatDowntickVolume\",\"UnknownTickVolume\",\"TradeToMidVolWeight\",\n",
    "                \"TradeToMidVolWeightRelative\",\"TimeWeightBid\",\"TimeWeightAsk\"]\n",
    "    \n"
   ]
  },
  {
   "cell_type": "code",
   "execution_count": null,
   "metadata": {},
   "outputs": [],
   "source": [
    "# Set a date-time index, using OpenBarTime\n",
    "bigF['DateTimeIndex'] = pd.to_datetime(bigF['Date'].astype(str)) + pd.to_timedelta(bigF['OpenBarTime'].astype(str))\n",
    "bigF = bigF.set_index('DateTimeIndex')\n",
    "    \n",
    "# Set datatypes and add separate Date and Time columns in case useful later\n",
    "bigF['Ticker'] = bigF.Ticker.astype(str)\n",
    "bigF['CloseBidSize'] = bigF.CloseBidSize.astype(float)\n",
    "bigF['CloseAskSize'] = bigF.CloseAskSize.astype(float)\n",
    "bigF['CloseBidPrice'] = bigF.CloseBidPrice.astype(float)\n",
    "bigF['CloseAskPrice'] = bigF.CloseAskPrice.astype(float)"
   ]
  },
  {
   "cell_type": "code",
   "execution_count": null,
   "metadata": {},
   "outputs": [],
   "source": [
    "# Reduce bigF to smF\n",
    "smF = bigF[['Ticker','CloseBidSize','CloseAskSize','CloseBidPrice',\n",
    "                'CloseAskPrice']].copy()   \n",
    "smF['Date'] = pd.to_datetime(bigF['Date'].astype(str))\n",
    "smF['Time'] = pd.to_timedelta(bigF['OpenBarTime'].astype(str))\n",
    "smF['DateTime'] = pd.to_datetime(bigF['Date'].astype(str)) + pd.to_timedelta(bigF['OpenBarTime'].astype(str))"
   ]
  },
  {
   "cell_type": "code",
   "execution_count": null,
   "metadata": {},
   "outputs": [],
   "source": [
    "# Compute WeightedMidPrice using the closing prices per analysis\n",
    "smF['WeightedMidPrice'] = ((smF['CloseBidSize']*smF['CloseAskPrice']) + (smF['CloseAskSize']*smF['CloseBidPrice'])) / (smF['CloseBidSize'] + smF['CloseAskSize'])\n"
   ]
  },
  {
   "cell_type": "code",
   "execution_count": null,
   "metadata": {},
   "outputs": [],
   "source": [
    "# Raw returns\n",
    "AAPL_rr = smF.loc[smF['Ticker'] == \"AAPL\"]\n",
    "AAPL_rr = AAPL_rr['WeightedMidPrice'] - AAPL_rr['WeightedMidPrice'].shift(1)\n",
    "AAPL_rr = AAPL_rr[AAPL_rr.notna()].copy()\n",
    "AAPL_rr = AAPL_rr[AAPL_rr != 0].copy()\n",
    "JPM_rr = smF.loc[smF['Ticker'] == \"JPM\"]\n",
    "JPM_rr = JPM_rr['WeightedMidPrice'] - JPM_rr['WeightedMidPrice'].shift(1)\n",
    "JPM_rr = JPM_rr[JPM_rr.notna()].copy()\n",
    "JPM_rr = JPM_rr[JPM_rr != 0].copy()\n",
    "    \n",
    "# Log returns\n",
    "AAPL_lr = smF.loc[smF['Ticker'] == \"AAPL\"]\n",
    "AAPL_lr = np.log(AAPL_lr['WeightedMidPrice'].astype(float))\n",
    "AAPL_lr = AAPL_lr - AAPL_lr.shift(1)\n",
    "AAPL_lr = AAPL_lr[AAPL_lr.notna()].copy()\n",
    "AAPL_lr = AAPL_lr[AAPL_lr != 0].copy()\n",
    "JPM_lr = smF.loc[smF['Ticker'] == \"JPM\"]\n",
    "JPM_lr = np.log(JPM_lr['WeightedMidPrice'].astype(float))\n",
    "JPM_lr = JPM_lr - JPM_lr.shift(1)\n",
    "JPM_lr = JPM_lr[JPM_lr.notna()].copy()\n",
    "JPM_lr = JPM_lr[JPM_lr != 0].copy()"
   ]
  },
  {
   "cell_type": "code",
   "execution_count": null,
   "metadata": {},
   "outputs": [],
   "source": [
    "# Remove outliers\n",
    "Q1l = AAPL_lr.quantile(0.001)   \n",
    "Q3l = AAPL_lr.quantile(0.999)   \n",
    "IQl = Q3l - Q1l\n",
    "Q1r = AAPL_rr.quantile(0.001)   \n",
    "Q3r = AAPL_rr.quantile(0.999)   \n",
    "IQr = Q3r - Q1r\n",
    "AAPL_lr = AAPL_lr[~((AAPL_lr < (Q1l - 1.5 * IQl)) | (AAPL_lr > (Q3l + 1.5 * IQl)))]\n",
    "AAPL_rr = AAPL_rr[~((AAPL_rr < (Q1r - 1.5 * IQr)) | (AAPL_rr > (Q3r + 1.5 * IQr)))]\n",
    "JPM_lr = JPM_lr[~((JPM_lr < (Q1l - 1.5 * IQl)) | (JPM_lr > (Q3l + 1.5 * IQl)))]\n",
    "JPM_rr = JPM_rr[~((JPM_rr < (Q1r - 1.5 * IQr)) | (JPM_rr > (Q3r + 1.5 * IQr)))]\n",
    "    \n",
    "# log returns only for models split into estimate (E=60%) and out-of-forecast (F=40%)\n",
    "AAPL = AAPL_lr.to_numpy(copy=True)\n",
    "JPM = JPM_lr.to_numpy(copy=True)\n",
    "aaplE = AAPL[0:269618,]\n",
    "aaplF = AAPL[269618:,]\n",
    "jpmE = JPM[0:200363,]\n",
    "jpmF = JPM[200363:,]\n",
    "aaplE = aaplE[:,np.newaxis]\n",
    "aaplF = aaplF[:,np.newaxis]\n",
    "jpmE = jpmE[:,np.newaxis]\n",
    "jpmF = jpmF[:,np.newaxis]\n",
    "\n",
    "print(\n",
    "    bigF.shape,\n",
    "    smF.shape,\n",
    "    AAPL_rr.shape, \n",
    "    JPM_rr.shape, \n",
    "    AAPL_lr.shape, \n",
    "    JPM_lr.shape, \n",
    "    aaplE.shape, \n",
    "    aaplF.shape, \n",
    "    jpmE.shape, \n",
    "    jpmF.shape\n",
    "    )"
   ]
  },
  {
   "cell_type": "code",
   "execution_count": null,
   "metadata": {},
   "outputs": [],
   "source": []
  },
  {
   "cell_type": "code",
   "execution_count": null,
   "metadata": {},
   "outputs": [],
   "source": []
  },
  {
   "cell_type": "code",
   "execution_count": null,
   "metadata": {},
   "outputs": [],
   "source": []
  }
 ],
 "metadata": {
  "kernelspec": {
   "display_name": "Python 3 (ipykernel)",
   "language": "python",
   "name": "python3"
  },
  "language_info": {
   "codemirror_mode": {
    "name": "ipython",
    "version": 3
   },
   "file_extension": ".py",
   "mimetype": "text/x-python",
   "name": "python",
   "nbconvert_exporter": "python",
   "pygments_lexer": "ipython3",
   "version": "3.10.6"
  }
 },
 "nbformat": 4,
 "nbformat_minor": 4
}
