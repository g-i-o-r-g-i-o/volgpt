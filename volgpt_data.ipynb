{
 "cells": [
  {
   "attachments": {},
   "cell_type": "markdown",
   "metadata": {},
   "source": [
    "> * #### THIS POST SHOULD NOT USE LAMBDA ENVIRONMENT - INSTEAD IT SHOULD BE PURE VOILA DEPLOYMENT.  USE THE 'volgpt-post-temp' setup for the actual post too, BUT CREATE A NEW FOLDER ON HOME AND ARTIFACT REPO CALLED 'volgpt-post'.  Keep volgpt-post-temp (i.e., don't delete it, because it will be useful as a template in future)\n",
    "> * #### NANOGPT POST SHOWS THE IMPLEMENTATION, NO NEED TO DO THAT AGAIN.  IN THIS POST, JUST FOCUS ON RESULTS\n",
    "\n",
    "> Create a visualization for the vol predictor\n",
    ">> * __[See Karpathy's ConvNetJS demo](https://cs.stanford.edu/people/karpathy/convnetjs/demo/classify2d.html)__\n",
    ">> * __[See tensorflow Neural Network Playground](http://playground.tensorflow.org/#activation=tanh&batchSize=10&dataset=circle&regDataset=reg-plane&learningRate=0.03&regularizationRate=0&noise=0&networkShape=4,2&seed=0.17803&showTestData=false&discretize=false&percTrainData=50&x=true&y=true&xTimesY=false&xSquared=false&ySquared=false&cosX=false&sinX=false&cosY=false&sinY=false&collectStats=false&problem=classification&initZero=false&hideText=false)__\n",
    ">> * provide ability in post to select a range of of tick data from a held out sample and obtain a vol prediction for it\n",
    ">> * show the mz regressions for the prediction\n",
    ">> * see if ChatGPT can suggest how to do this\n",
    "\n",
    "> * WHAT DO I DO ABOUT THE SPARSE NATURE OF THE DATASET?\n",
    "\n",
    "> * MANY OF THE COLUMNS ARE NULL/NAN/ZERO?  \n",
    ">> WHAT COLUMNS, IF ANY, DO I DROP?\n",
    "\n",
    "> * WHAT USE TO I MAKE OF 'UNK'\n",
    "\n",
    "> * what to do about NANs and NULLs?  Set to 'UNK'?  \n",
    ">> From ChatGPT: \"In Transformers, \"UNK\" is a special token that represents an out-of-vocabulary (OOV) word, meaning a word that is not present in the vocabulary used by the language model. When a word is encountered during tokenization that is not present in the vocabulary, it is replaced with the UNK token.\" <br>\n",
    "\n",
    "> * what to do about zero values?\n",
    ">> From ChatGPT: \"Sparse datasets can make training a transformer more difficult, especially if the dataset contains predominantly zero values. This is because the sparsity can lead to computational inefficiencies and difficulties in training the model effectively. <br> <br>\n",
    ">> In natural language processing tasks, for example, the input data is often encoded as sparse matrices of one-hot vectors, which can be very large and memory-intensive. If the input data is extremely sparse, it can be difficult for the model to effectively learn from the data and make accurate predictions. <br> <br>\n",
    ">> To address these issues, various techniques have been developed to handle sparse data in transformers, such as embedding techniques that allow the model to learn more efficiently from sparse input data, and compression techniques that reduce the memory footprint of the input data.\" <br>\n",
    "\n",
    "> * Using NanoGPT (i.e., a transformer or LLM - WHICH IS IT EXACTLY??), I don't need to treat things like raw returns and log returns separately.  I just throw them all in together. <br>\n",
    ">> But! Does this help? Is the vol forecast better as a result?\n",
    "***"
   ]
  },
  {
   "attachments": {},
   "cell_type": "markdown",
   "metadata": {},
   "source": [
    "> **This notebook contains workings only**\n",
    "***"
   ]
  },
  {
   "attachments": {},
   "cell_type": "markdown",
   "metadata": {},
   "source": [
    "#### Import and prepare high-frequency tick data for AAPL and JPM"
   ]
  },
  {
   "cell_type": "code",
   "execution_count": 1,
   "metadata": {},
   "outputs": [
    {
     "name": "stdout",
     "output_type": "stream",
     "text": [
      "CUDA is not available.\n"
     ]
    },
    {
     "name": "stderr",
     "output_type": "stream",
     "text": [
      "/usr/lib/python3/dist-packages/torch/cuda/__init__.py:88: UserWarning: CUDA initialization: Unexpected error from cudaGetDeviceCount(). Did you run some cuda functions before calling NumCudaDevices() that might have already set an error? Error 804: forward compatibility was attempted on non supported HW (Triggered internally at ./c10/cuda/CUDAFunctions.cpp:109.)\n",
      "  return torch._C._cuda_getDeviceCount() > 0\n"
     ]
    }
   ],
   "source": [
    "# check GPU (if working on local machine)\n",
    "import torch\n",
    "if torch.cuda.is_available():\n",
    "    device = torch.device(\"cuda\")\n",
    "    print(f\"device: {device}\")\n",
    "    print(f\"Device name: {torch.cuda.get_device_name(0)}\")\n",
    "else:\n",
    "    print(\"CUDA is not available.\")"
   ]
  },
  {
   "cell_type": "code",
   "execution_count": null,
   "metadata": {},
   "outputs": [],
   "source": [
    "# for running in docker image\n",
    "device = 'cuda' if torch.cuda.is_available() else 'cpu'"
   ]
  },
  {
   "cell_type": "code",
   "execution_count": null,
   "metadata": {},
   "outputs": [],
   "source": [
    "from volgpt_data import high_frequency_data\n",
    "df_data, prop_missing_pct, AAPL_rr, JPM_rr, AAPL_lr, JPM_lr, AAPL_stats, JPM_stats = high_frequency_data()\n",
    "\n",
    "print(df_data.shape, AAPL_rr.shape, JPM_rr.shape, AAPL_lr.shape, JPM_lr.shape)"
   ]
  },
  {
   "attachments": {},
   "cell_type": "markdown",
   "metadata": {},
   "source": [
    "#### Descriptive statistics"
   ]
  },
  {
   "cell_type": "code",
   "execution_count": null,
   "metadata": {},
   "outputs": [],
   "source": [
    "# Descriptive statistics\n",
    "from scipy import stats\n",
    "\n",
    "print(\"Descriptive statistics for AAPL: \",\"\\n\"\n",
    "      \"Number of observations = \",AAPL_stats.nobs,\"\\n\"\n",
    "      \"Minimum, Maximum = \", str(AAPL_stats.minmax),\"\\n\"\n",
    "      \"Mean = %.5f\" %  AAPL_stats.mean,\"\\n\"\n",
    "      \"Variance = %.5f\" %  AAPL_stats.variance,\"\\n\"\n",
    "      \"Standard deviation = %.5f\" %  AAPL_stats.variance**0.5,\"\\n\"\n",
    "      \"Skewness = %.5f\" %  AAPL_stats.skewness,\"\\n\"\n",
    "      \"Kurtosis = %.5f\" %  AAPL_stats.kurtosis,\"\\n\") \n",
    "\n",
    "print(\"Descriptive statistics for JPM: \",\"\\n\"\n",
    "      \"Number of observations = \",JPM_stats.nobs,\"\\n\"\n",
    "      \"Minimum, Maximum = \", str(JPM_stats.minmax),\"\\n\"\n",
    "      \"Mean = %.5f\" %  JPM_stats.mean,\"\\n\"\n",
    "      \"Variance = %.5f\" %  JPM_stats.variance,\"\\n\"\n",
    "      \"Standard deviation = %.5f\" %  JPM_stats.variance**0.5,\"\\n\"\n",
    "      \"Skewness = %.5f\" %  JPM_stats.skewness,\"\\n\"\n",
    "      \"Kurtosis = %.5f\" %  JPM_stats.kurtosis)"
   ]
  },
  {
   "attachments": {},
   "cell_type": "markdown",
   "metadata": {},
   "source": [
    "#### Proportion of missing values and zero values for each column"
   ]
  },
  {
   "cell_type": "code",
   "execution_count": null,
   "metadata": {},
   "outputs": [],
   "source": [
    "# Proportion of missing values and zero values for each column\n",
    "\n",
    "print(prop_missing_pct)"
   ]
  },
  {
   "attachments": {},
   "cell_type": "markdown",
   "metadata": {},
   "source": [
    "#### Plot raw returns and log returns"
   ]
  },
  {
   "cell_type": "code",
   "execution_count": null,
   "metadata": {},
   "outputs": [],
   "source": [
    "# Returns plots\n",
    "import pandas as pd\n",
    "import numpy as np\n",
    "from datetime import datetime, timedelta, date\n",
    "from scipy import stats\n",
    "import matplotlib.pyplot as plt\n",
    "from pandas.plotting import register_matplotlib_converters\n",
    "register_matplotlib_converters()\n",
    "import seaborn as sns   \n",
    "sns.set()\n",
    "\n",
    "startEndTimes = ['2018-01-01 00:00:00.0', '2020-03-31 23:59:59.0']\n",
    "startTime = pd._libs.tslibs.timestamps.Timestamp(startEndTimes[0])\n",
    "endTime = pd._libs.tslibs.timestamps.Timestamp(startEndTimes[1])\n",
    "startDate = str(startTime.date()).replace('-','.')\n",
    "endDate = str(endTime.date()).replace('-','.')\n",
    "currentTime = str(date.today())\n",
    "\n",
    "fig = plt.figure(figsize=(16,12))  \n",
    "\n",
    "ax1 = plt.subplot(221)\n",
    "ax1.set(title=\"AAPL 1-minute weighted mid-price (source data: NYSE TAQ)\", xlabel=\"Observations\", ylabel=\"AAPL 1-min weighted mid-price\");\n",
    "ax1.plot(AAPL_rr, color='darkslategrey', linewidth=0.5)\n",
    "\n",
    "ax2 = plt.subplot(222)\n",
    "ax2.set(title=\"JPM 1-minute weighted mid-price (source data: NYSE TAQ)\", xlabel=\"Observations\", ylabel=\"JPM 1-min weighted mid-price\") \n",
    "ax2.plot(JPM_rr, color='saddlebrown', linewidth=0.5)\n",
    "\n",
    "plt.show();"
   ]
  },
  {
   "cell_type": "code",
   "execution_count": null,
   "metadata": {},
   "outputs": [],
   "source": [
    "# Log returns plots\n",
    "from scipy import stats\n",
    "import seaborn as sns\n",
    "sns.set()\n",
    "fig = plt.figure(figsize=(16,12)) \n",
    "\n",
    "ax1 = plt.subplot(221)\n",
    "ax1.set(title=\"AAPL 1-minute WMP log returns (source data: NYSE TAQ)\", xlabel=\"Observations\", ylabel=\"AAPL 1-min WMP log returns\");\n",
    "ax1.plot(AAPL_lr, color='darkslategrey', linewidth=0.5, alpha=0.75)\n",
    "\n",
    "ax2 = plt.subplot(222)\n",
    "ax2.set(title=\"JPM 1-minute WMP log returns (source data: NYSE TAQ)\", xlabel=\"Observations\", ylabel=\"JPM 1-min WMP log returns\") \n",
    "ax2.plot(JPM_lr, color='saddlebrown', linewidth=0.5, alpha=0.75)\n",
    "\n",
    "plt.show();"
   ]
  },
  {
   "cell_type": "markdown",
   "metadata": {},
   "source": [
    "#### Create text file for input to NanoGPT"
   ]
  },
  {
   "cell_type": "code",
   "execution_count": null,
   "metadata": {},
   "outputs": [],
   "source": [
    "# save df_data as a text file\n",
    "df_data.to_csv('df_data.txt', sep='\\t', index=False)"
   ]
  },
  {
   "attachments": {},
   "cell_type": "markdown",
   "metadata": {},
   "source": [
    "#### From ChatGPT re structure of text file:\n",
    "\n",
    "> \"In this example, we first create a sample dataframe called df. We then use the to_csv method to save the dataframe to a file called data.txt. The sep parameter specifies the delimiter to use in the text file (in this case, a tab character), and the index parameter is set to False to exclude the index from the output.  You can customize the parameters of to_csv method as per your requirements.\"\n",
    "\n",
    "#### My next prompt: \n",
    "\n",
    "> I shall use data.txt as an input to a large language model (Karpathy's NanoGPT).  Should I include the sep='/t' parameter?\n",
    "\n",
    "#### ChatGPT:\n",
    "\n",
    "> \"Yes, you should include the sep='\\t' parameter in the to_csv method to specify the delimiter as a tab character. <br> <br>\n",
    "> If the input file for Karpathy's NanoGPT expects tab-separated values, you need to ensure that the file you're providing is also in the same format. In the example I provided earlier, the sep='\\t' parameter specifies that the data will be saved as tab-separated values. <br> <br>\n",
    "> Therefore, including this parameter will ensure that the saved text file has a tab-separated format, which is the expected format for input to Karpathy's NanoGPT.\""
   ]
  },
  {
   "cell_type": "code",
   "execution_count": null,
   "metadata": {},
   "outputs": [],
   "source": [
    "# Check that the text file was saved correctly\n",
    "\n",
    "df_exported = pd.read_csv('df_data.txt', sep='\\t') # read the text file into a dataframe\n",
    "\n",
    "print('shape of df_data: ', df_data.shape)\n",
    "print('shape of df_exported: ', df_exported.shape)"
   ]
  },
  {
   "attachments": {},
   "cell_type": "markdown",
   "metadata": {},
   "source": [
    "# Load data into NanoGPT"
   ]
  },
  {
   "attachments": {},
   "cell_type": "markdown",
   "metadata": {},
   "source": [
    "#### __[See nanogpt/nanogpt.ipynb commit v0.1.18 for consolidated code](https://github.com/johncollinsai/nanogpt/blob/bc54688a22dbce92648ad36fec865140ab1d6544/nanogpt.ipynb)__"
   ]
  },
  {
   "cell_type": "code",
   "execution_count": null,
   "metadata": {},
   "outputs": [],
   "source": [
    "# See nanogpt/nanogpt.ipynb commit v0.1.18 for consolidated code\n",
    "# https://github.com/johncollinsai/nanogpt/blob/bc54688a22dbce92648ad36fec865140ab1d6544/nanogpt.ipynb\n",
    "\n",
    "import torch\n",
    "import torch.nn as nn\n",
    "from torch.nn import functional as F\n",
    "\n",
    "# hyperparameters\n",
    "batch_size = 16 # how many independent sequences will we process in parallel?\n",
    "block_size = 32 # what is the maximum context length for predictions?\n",
    "max_iters = 5000\n",
    "eval_interval = 100\n",
    "learning_rate = 1e-3\n",
    "device = 'cuda' if torch.cuda.is_available() else 'cpu'\n",
    "eval_iters = 200\n",
    "n_embd = 64\n",
    "n_head = 4\n",
    "n_layer = 4\n",
    "dropout = 0.0\n",
    "# ------------\n",
    "\n",
    "torch.manual_seed(3407)\n",
    "\n",
    "# get data\n",
    "with open('df_data.txt', 'r', encoding='utf-8') as f:\n",
    "    text = f.read()\n",
    "\n",
    "# here are all the unique characters that occur in this text\n",
    "chars = sorted(list(set(text)))\n",
    "vocab_size = len(chars)\n",
    "# create a mapping from characters to integers\n",
    "stoi = { ch:i for i,ch in enumerate(chars) }\n",
    "itos = { i:ch for i,ch in enumerate(chars) }\n",
    "encode = lambda s: [stoi[c] for c in s] # encoder: take a string, output a list of integers\n",
    "decode = lambda l: ''.join([itos[i] for i in l]) # decoder: take a list of integers, output a string\n",
    "\n",
    "# Train and test splits\n",
    "data = torch.tensor(encode(text), dtype=torch.long)\n",
    "n = int(0.9*len(data)) # first 90% will be train, rest val\n",
    "train_data = data[:n]\n",
    "val_data = data[n:]\n",
    "\n",
    "# data loading\n",
    "def get_batch(split):\n",
    "    # generate a small batch of data of inputs x and targets y\n",
    "    data = train_data if split == 'train' else val_data\n",
    "    ix = torch.randint(len(data) - block_size, (batch_size,))\n",
    "    x = torch.stack([data[i:i+block_size] for i in ix])\n",
    "    y = torch.stack([data[i+1:i+block_size+1] for i in ix])\n",
    "    x, y = x.to(device), y.to(device)\n",
    "    return x, y\n",
    "\n",
    "@torch.no_grad()\n",
    "def estimate_loss():\n",
    "    out = {}\n",
    "    model.eval()\n",
    "    for split in ['train', 'val']:\n",
    "        losses = torch.zeros(eval_iters)\n",
    "        for k in range(eval_iters):\n",
    "            X, Y = get_batch(split)\n",
    "            logits, loss = model(X, Y)\n",
    "            losses[k] = loss.item()\n",
    "        out[split] = losses.mean()\n",
    "    model.train()\n",
    "    return out\n",
    "\n",
    "class Head(nn.Module):\n",
    "    \"\"\" one head of self-attention \"\"\"\n",
    "\n",
    "    def __init__(self, head_size):\n",
    "        super().__init__()\n",
    "        self.key = nn.Linear(n_embd, head_size, bias=False)\n",
    "        self.query = nn.Linear(n_embd, head_size, bias=False)\n",
    "        self.value = nn.Linear(n_embd, head_size, bias=False)\n",
    "        self.register_buffer('tril', torch.tril(torch.ones(block_size, block_size)))\n",
    "\n",
    "        self.dropout = nn.Dropout(dropout)\n",
    "\n",
    "    def forward(self, x):\n",
    "        B,T,C = x.shape\n",
    "        k = self.key(x)   # (B,T,C)\n",
    "        q = self.query(x) # (B,T,C)\n",
    "        # compute attention scores (\"affinities\")\n",
    "        wei = q @ k.transpose(-2,-1) * C**-0.5 # (B, T, C) @ (B, C, T) -> (B, T, T)\n",
    "        wei = wei.masked_fill(self.tril[:T, :T] == 0, float('-inf')) # (B, T, T)\n",
    "        wei = F.softmax(wei, dim=-1) # (B, T, T)\n",
    "        wei = self.dropout(wei)\n",
    "        # perform the weighted aggregation of the values\n",
    "        v = self.value(x) # (B,T,C)\n",
    "        out = wei @ v # (B, T, T) @ (B, T, C) -> (B, T, C)\n",
    "        return out\n",
    "\n",
    "class MultiHeadAttention(nn.Module):\n",
    "    \"\"\" multiple heads of self-attention in parallel \"\"\"\n",
    "\n",
    "    def __init__(self, num_heads, head_size):\n",
    "        super().__init__()\n",
    "        self.heads = nn.ModuleList([Head(head_size) for _ in range(num_heads)])\n",
    "        self.proj = nn.Linear(n_embd, n_embd)\n",
    "        self.dropout = nn.Dropout(dropout)\n",
    "\n",
    "    def forward(self, x):\n",
    "        out = torch.cat([h(x) for h in self.heads], dim=-1)\n",
    "        out = self.dropout(self.proj(out))\n",
    "        return out\n",
    "\n",
    "class FeedFoward(nn.Module):\n",
    "    \"\"\" a simple linear layer followed by a non-linearity \"\"\"\n",
    "\n",
    "    def __init__(self, n_embd):\n",
    "        super().__init__()\n",
    "        self.net = nn.Sequential(\n",
    "            nn.Linear(n_embd, 4 * n_embd),\n",
    "            nn.ReLU(),\n",
    "            nn.Linear(4 * n_embd, n_embd),\n",
    "            nn.Dropout(dropout),\n",
    "        )\n",
    "\n",
    "    def forward(self, x):\n",
    "        return self.net(x)\n",
    "\n",
    "class Block(nn.Module):\n",
    "    \"\"\" Transformer block: communication followed by computation \"\"\"\n",
    "\n",
    "    def __init__(self, n_embd, n_head):\n",
    "        # n_embd: embedding dimension, n_head: the number of heads we'd like\n",
    "        super().__init__()\n",
    "        head_size = n_embd // n_head\n",
    "        self.sa = MultiHeadAttention(n_head, head_size)\n",
    "        self.ffwd = FeedFoward(n_embd)\n",
    "        self.ln1 = nn.LayerNorm(n_embd)\n",
    "        self.ln2 = nn.LayerNorm(n_embd)\n",
    "\n",
    "    def forward(self, x):\n",
    "        x = x + self.sa(self.ln1(x))\n",
    "        x = x + self.ffwd(self.ln2(x))\n",
    "        return x\n",
    "\n",
    "# super simple bigram model\n",
    "class BigramLanguageModel(nn.Module):\n",
    "\n",
    "    def __init__(self):\n",
    "        super().__init__()\n",
    "        # each token directly reads off the logits for the next token from a lookup table\n",
    "        self.token_embedding_table = nn.Embedding(vocab_size, n_embd)\n",
    "        self.position_embedding_table = nn.Embedding(block_size, n_embd)\n",
    "        self.blocks = nn.Sequential(*[Block(n_embd, n_head=n_head) for _ in range(n_layer)])\n",
    "        self.ln_f = nn.LayerNorm(n_embd) # final layer norm\n",
    "        self.lm_head = nn.Linear(n_embd, vocab_size)\n",
    "\n",
    "    def forward(self, idx, targets=None):\n",
    "        B, T = idx.shape\n",
    "\n",
    "        # idx and targets are both (B,T) tensor of integers\n",
    "        tok_emb = self.token_embedding_table(idx) # (B,T,C)\n",
    "        pos_emb = self.position_embedding_table(torch.arange(T, device=device)) # (T,C)\n",
    "        x = tok_emb + pos_emb # (B,T,C)\n",
    "        x = self.blocks(x) # (B,T,C)\n",
    "        x = self.ln_f(x) # (B,T,C)\n",
    "        logits = self.lm_head(x) # (B,T,vocab_size)\n",
    "\n",
    "        if targets is None:\n",
    "            loss = None\n",
    "        else:\n",
    "            B, T, C = logits.shape\n",
    "            logits = logits.view(B*T, C)\n",
    "            targets = targets.view(B*T)\n",
    "            loss = F.cross_entropy(logits, targets)\n",
    "\n",
    "        return logits, loss\n",
    "\n",
    "    def generate(self, idx, max_new_tokens):\n",
    "        # idx is (B, T) array of indices in the current context\n",
    "        for _ in range(max_new_tokens):\n",
    "            # crop idx to the last block_size tokens\n",
    "            idx_cond = idx[:, -block_size:]\n",
    "            # get the predictions\n",
    "            logits, loss = self(idx_cond)\n",
    "            # focus only on the last time step\n",
    "            logits = logits[:, -1, :] # becomes (B, C)\n",
    "            # apply softmax to get probabilities\n",
    "            probs = F.softmax(logits, dim=-1) # (B, C)\n",
    "            # sample from the distribution\n",
    "            idx_next = torch.multinomial(probs, num_samples=1) # (B, 1)\n",
    "            # append sampled index to the running sequence\n",
    "            idx = torch.cat((idx, idx_next), dim=1) # (B, T+1)\n",
    "        return idx\n",
    "\n",
    "model = BigramLanguageModel()\n",
    "m = model.to(device)\n",
    "# print the number of parameters in the model\n",
    "print(sum(p.numel() for p in m.parameters())/1e6, 'M parameters')\n",
    "\n",
    "# create a PyTorch optimizer\n",
    "optimizer = torch.optim.AdamW(model.parameters(), lr=learning_rate)\n",
    "\n",
    "for iter in range(max_iters):\n",
    "\n",
    "    # every once in a while evaluate the loss on train and val sets\n",
    "    if iter % eval_interval == 0 or iter == max_iters - 1:\n",
    "        losses = estimate_loss()\n",
    "        print(f\"step {iter}: train loss {losses['train']:.4f}, val loss {losses['val']:.4f}\")\n",
    "\n",
    "    # sample a batch of data\n",
    "    xb, yb = get_batch('train')\n",
    "\n",
    "    # evaluate the loss\n",
    "    logits, loss = model(xb, yb)\n",
    "    optimizer.zero_grad(set_to_none=True)\n",
    "    loss.backward()\n",
    "    optimizer.step()\n",
    "\n",
    "# generate from the model\n",
    "context = torch.zeros((1, 1), dtype=torch.long, device=device)\n",
    "print(decode(m.generate(context, max_new_tokens=2000)[0].tolist()))"
   ]
  },
  {
   "attachments": {},
   "cell_type": "markdown",
   "metadata": {},
   "source": [
    "# NEXT STEPS | MONDAY\n",
    "\n",
    "> * Do I need the column headings to show in the output?\n",
    "\n",
    "> * How do I identify the raw returns and log returns?\n",
    "\n",
    "> * Make sure predictions are based on the validation dataset\n",
    "\n",
    "> * Compute MZ regressions"
   ]
  },
  {
   "attachments": {},
   "cell_type": "markdown",
   "metadata": {},
   "source": [
    "# Evaluate the model"
   ]
  },
  {
   "cell_type": "markdown",
   "metadata": {},
   "source": [
    "#### MZ Regressions"
   ]
  },
  {
   "cell_type": "code",
   "execution_count": null,
   "metadata": {},
   "outputs": [],
   "source": []
  },
  {
   "attachments": {},
   "cell_type": "markdown",
   "metadata": {},
   "source": [
    "***\n",
    "# End"
   ]
  },
  {
   "cell_type": "code",
   "execution_count": null,
   "metadata": {},
   "outputs": [],
   "source": []
  },
  {
   "cell_type": "code",
   "execution_count": null,
   "metadata": {},
   "outputs": [],
   "source": []
  },
  {
   "attachments": {},
   "cell_type": "markdown",
   "metadata": {},
   "source": [
    "***\n",
    "# Original code for volgpt_data.py"
   ]
  },
  {
   "cell_type": "markdown",
   "metadata": {},
   "source": [
    "# Prepare data"
   ]
  },
  {
   "cell_type": "code",
   "execution_count": null,
   "metadata": {},
   "outputs": [],
   "source": [
    "import os\n",
    "import glob\n",
    "import pandas as pd\n",
    "import numpy as np\n",
    "\n",
    "# import HF data (AAPL, JPM), being 563 daily files\n",
    "path = 'allfiles'\n",
    "all_files = glob.glob(os.path.join(path,\"**/*.csv.gz\"))\n",
    "\n",
    "np_array_list = []\n",
    "for file_ in all_files:\n",
    "    df = pd.read_csv(file_,index_col=None, header=0) # read the csv's\n",
    "    np_array_list.append(df.values) # convert to numpy array\n",
    "\n",
    "comb_np_array = np.vstack(np_array_list) # Create bit array\n",
    "df_data = pd.DataFrame(comb_np_array) # Create dataframe\n",
    "\n",
    "print(df_data.shape)"
   ]
  },
  {
   "cell_type": "code",
   "execution_count": null,
   "metadata": {},
   "outputs": [],
   "source": [
    "# Set column headings\n",
    "df_data.columns = [\"Date\",\"Ticker\",\"TimeBarStart\",\"OpenBarTime\",\"OpenBidPrice\",\"OpenBidSize\", \"OpenAskPrice\",\"OpenAskSize\",\"FirstTradeTime\",\"FirstTradePrice\",\"FirstTradeSize\",\"HighBidTime\",\"HighBidPrice\",\"HighBidSize\",\"HighAskTime\",\"HighAskPrice\",\"HighAskSize\",\"HighTradeTime\",\"HighTradePrice\",\"HighTradeSize\",\"LowBidTime\",\"LowBidPrice\",\"LowBidSize\",\"LowAskTime\",\"LowAskPrice\",\"LowAskSize\",\"LowTradeTime\",\"LowTradePrice\",\"LowTradeSize\",\"CloseBarTime\",\"CloseBidPrice\",\"CloseBidSize\",\"CloseAskPrice\",\"CloseAskSize\",\"LastTradeTime\",\"LastTradePrice\",\"LastTradeSize\",\"MinSpread\",\"MaxSpread\",\"CancelSize\",\"VolumeWeightPrice\",\"NBBOQuoteCount\",\"TradeAtBid\",\"TradeAtBidMid\",\"TradeAtMid\",\"TradeAtMidAsk\",\"TradeAtAsk\",\"TradeAtCrossOrLocked\",\"Volume\",\"TotalTrades\",\"FinraVolume\",\"FinraVolumeWeightPrice\",\"UptickVolume\",\"DowntickVolume\",\"RepeatUptickVolume\",\"RepeatDowntickVolume\",\"UnknownTickVolume\",\"TradeToMidVolWeight\",\"TradeToMidVolWeightRelative\",\"TimeWeightBid\",\"TimeWeightAsk\"]\n",
    "\n",
    "# Set a date-time index, using OpenBarTime\n",
    "df_data['DateTimeIndex'] = pd.to_datetime(df_data['Date'].astype(str)) + pd.to_timedelta(df_data['OpenBarTime'].astype(str))\n",
    "df_data = df_data.set_index('DateTimeIndex')\n",
    "df_data = df_data.drop(['Date','TimeBarStart'], axis=1) # Drop original Date and TimeBarStart columns\n",
    "\n",
    "df_data.head().T"
   ]
  },
  {
   "cell_type": "code",
   "execution_count": null,
   "metadata": {},
   "outputs": [],
   "source": [
    "# Calculate the proportion of missing values and zero values for each column\n",
    "prop_missing = (df_data.isna().sum() + (df_data == 0).sum()) / len(df_data)\n",
    "prop_missing_pct = prop_missing.map('{:.4%}'.format)  # Format as a percentage to 4dp\n",
    "\n",
    "print(prop_missing_pct)"
   ]
  },
  {
   "cell_type": "code",
   "execution_count": null,
   "metadata": {},
   "outputs": [],
   "source": [
    "# Set datatypes for columns used to compute weighted mid-price\n",
    "df_data['CloseBidSize'] = df_data['CloseBidSize'].astype(float)\n",
    "df_data['CloseAskSize'] = df_data['CloseAskSize'].astype(float)\n",
    "df_data['CloseBidPrice'] = df_data['CloseBidPrice'].astype(float)\n",
    "df_data['CloseAskPrice'] = df_data['CloseAskPrice'].astype(float)\n",
    "\n",
    "# Compute WeightedMidPrice using the closing prices per analysis in my high-frequency-data post\n",
    "df_data['WeightedMidPrice'] = ((df_data['CloseBidSize']*df_data['CloseAskPrice']) + (df_data['CloseAskSize']*df_data['CloseBidPrice'])) / (df_data['CloseBidSize'] + df_data['CloseAskSize'])\n",
    "\n",
    "# print(df_data.dtypes.to_string(max_rows=None))"
   ]
  },
  {
   "cell_type": "markdown",
   "metadata": {},
   "source": [
    "#### Compute raw returns and log returns"
   ]
  },
  {
   "cell_type": "code",
   "execution_count": null,
   "metadata": {},
   "outputs": [],
   "source": [
    "# Calculate AAPL_rr\n",
    "AAPL_rr = df_data.loc[df_data['Ticker'] == \"AAPL\"]\n",
    "AAPL_rr = AAPL_rr['WeightedMidPrice'] - AAPL_rr['WeightedMidPrice'].shift(1)\n",
    "AAPL_rr = AAPL_rr[AAPL_rr.notna()].copy()\n",
    "AAPL_rr = AAPL_rr[AAPL_rr != 0].copy()\n",
    "\n",
    "# Calculate JPM_rr\n",
    "JPM_rr = df_data.loc[df_data['Ticker'] == \"JPM\"]\n",
    "JPM_rr = JPM_rr['WeightedMidPrice'] - JPM_rr['WeightedMidPrice'].shift(1)\n",
    "JPM_rr = JPM_rr[JPM_rr.notna()].copy()\n",
    "JPM_rr = JPM_rr[JPM_rr != 0].copy()\n",
    "\n",
    "# Merge AAPL_rr and JPM_rr with df_data\n",
    "df_data = df_data.merge(AAPL_rr.to_frame(name='AAPL_rr'), left_index=True, right_index=True, how='left')\n",
    "df_data = df_data.merge(JPM_rr.to_frame(name='JPM_rr'), left_index=True, right_index=True, how='left')\n",
    "\n",
    "# Log returns\n",
    "AAPL_lr = df_data.loc[df_data['Ticker'] == \"AAPL\"]\n",
    "AAPL_lr = np.log(AAPL_lr['WeightedMidPrice'].astype(float))\n",
    "AAPL_lr = AAPL_lr - AAPL_lr.shift(1)\n",
    "AAPL_lr = AAPL_lr[AAPL_lr.notna()].copy()\n",
    "AAPL_lr = AAPL_lr[AAPL_lr != 0].copy()\n",
    "JPM_lr = df_data.loc[df_data['Ticker'] == \"JPM\"]\n",
    "JPM_lr = np.log(JPM_lr['WeightedMidPrice'].astype(float))\n",
    "JPM_lr = JPM_lr - JPM_lr.shift(1)\n",
    "JPM_lr = JPM_lr[JPM_lr.notna()].copy()\n",
    "JPM_lr = JPM_lr[JPM_lr != 0].copy()\n",
    "\n",
    "# Append log returns as additional columns to df_data\n",
    "df_data = pd.concat([df_data, AAPL_lr.rename('AAPL_lr'), JPM_lr.rename('JPM_lr')], axis=1)\n",
    "\n",
    "print(df_data.shape)\n",
    "# df_data[['AAPL_rr', 'JPM_rr', 'AAPL_lr', 'JPM_lr']].head(5).T"
   ]
  },
  {
   "cell_type": "markdown",
   "metadata": {},
   "source": [
    "***\n",
    "> #### WHY ARE THE TWO SETS OF DESCRIPTIVE STATS THAT FOLLOW DIFFERENT?"
   ]
  },
  {
   "cell_type": "code",
   "execution_count": null,
   "metadata": {},
   "outputs": [],
   "source": [
    "# Describe the data\n",
    "df_data[['AAPL_rr', 'JPM_rr', 'AAPL_lr', 'JPM_lr']].describe().T"
   ]
  },
  {
   "cell_type": "code",
   "execution_count": null,
   "metadata": {},
   "outputs": [],
   "source": [
    "# Descriptive statistics\n",
    "from scipy import stats\n",
    "\n",
    "# Calculate AAPL_rr and remove nan and 0 values\n",
    "AAPL_rr = df_data.loc[df_data['Ticker'] == \"AAPL\"]\n",
    "AAPL_rr = AAPL_rr['WeightedMidPrice'] - AAPL_rr['WeightedMidPrice'].shift(1)\n",
    "AAPL_rr = AAPL_rr[AAPL_rr.notna()].copy()\n",
    "AAPL_rr = AAPL_rr[AAPL_rr != 0].copy()\n",
    "\n",
    "# Calculate JPM_rr and remove nan and 0 values\n",
    "JPM_rr = df_data.loc[df_data['Ticker'] == \"JPM\"]\n",
    "JPM_rr = JPM_rr['WeightedMidPrice'] - JPM_rr['WeightedMidPrice'].shift(1)\n",
    "JPM_rr = JPM_rr[JPM_rr.notna()].copy()\n",
    "JPM_rr = JPM_rr[JPM_rr != 0].copy()\n",
    "\n",
    "j = stats.describe(AAPL_rr)\n",
    "print(\"Descriptive statistics for AAPL: \",\"\\n\"\n",
    "      \"Number of observations = \",j.nobs,\"\\n\"\n",
    "      \"Minimum, Maximum = \", str(j.minmax),\"\\n\"\n",
    "      \"Mean = %.5f\" %  j.mean,\"\\n\"\n",
    "      \"Variance = %.5f\" %  j.variance,\"\\n\"\n",
    "      \"Standard deviation = %.5f\" %  j.variance**0.5,\"\\n\"\n",
    "      \"Skewness = %.5f\" %  j.skewness,\"\\n\"\n",
    "      \"Kurtosis = %.5f\" %  j.kurtosis) \n",
    "\n",
    "k = stats.describe(JPM_rr)\n",
    "print(\"Descriptive statistics for JPM: \",\"\\n\"\n",
    "      \"Number of observations = \",k.nobs,\"\\n\"\n",
    "      \"Minimum, Maximum = \", str(k.minmax),\"\\n\"\n",
    "      \"Mean = %.5f\" %  k.mean,\"\\n\"\n",
    "      \"Variance = %.5f\" %  k.variance,\"\\n\"\n",
    "      \"Standard deviation = %.5f\" %  k.variance**0.5,\"\\n\"\n",
    "      \"Skewness = %.5f\" %  k.skewness,\"\\n\"\n",
    "      \"Kurtosis = %.5f\" %  k.kurtosis)"
   ]
  },
  {
   "cell_type": "code",
   "execution_count": null,
   "metadata": {},
   "outputs": [],
   "source": [
    "# IMPORTANT: Remove outliers?? OR NOT???\n",
    "'''\n",
    "# Remove outliers\n",
    "Q1l = AAPL_lr.quantile(0.001)   \n",
    "Q3l = AAPL_lr.quantile(0.999)   \n",
    "IQl = Q3l - Q1l\n",
    "Q1r = AAPL_rr.quantile(0.001)   \n",
    "Q3r = AAPL_rr.quantile(0.999)   \n",
    "IQr = Q3r - Q1r\n",
    "AAPL_lr = AAPL_lr[~((AAPL_lr < (Q1l - 1.5 * IQl)) | (AAPL_lr > (Q3l + 1.5 * IQl)))]\n",
    "AAPL_rr = AAPL_rr[~((AAPL_rr < (Q1r - 1.5 * IQr)) | (AAPL_rr > (Q3r + 1.5 * IQr)))]\n",
    "JPM_lr = JPM_lr[~((JPM_lr < (Q1l - 1.5 * IQl)) | (JPM_lr > (Q3l + 1.5 * IQl)))]\n",
    "JPM_rr = JPM_rr[~((JPM_rr < (Q1r - 1.5 * IQr)) | (JPM_rr > (Q3r + 1.5 * IQr)))]\n",
    "'''"
   ]
  },
  {
   "cell_type": "markdown",
   "metadata": {},
   "source": [
    "> #### END | WHY ARE THE TWO SETS OF DESCRIPTIVE STATS ABOVE DIFFERENT?\n",
    "***"
   ]
  },
  {
   "cell_type": "markdown",
   "metadata": {},
   "source": [
    "#### Returns and log returns plots"
   ]
  },
  {
   "cell_type": "code",
   "execution_count": null,
   "metadata": {},
   "outputs": [],
   "source": [
    "# Returns plots\n",
    "from datetime import datetime, timedelta, date\n",
    "from scipy import stats\n",
    "import matplotlib.pyplot as plt\n",
    "from pandas.plotting import register_matplotlib_converters\n",
    "register_matplotlib_converters()\n",
    "import seaborn as sns   \n",
    "sns.set()\n",
    "\n",
    "startEndTimes = ['2018-01-01 00:00:00.0', '2020-03-31 23:59:59.0']\n",
    "startTime = pd._libs.tslibs.timestamps.Timestamp(startEndTimes[0])\n",
    "endTime = pd._libs.tslibs.timestamps.Timestamp(startEndTimes[1])\n",
    "startDate = str(startTime.date()).replace('-','.')\n",
    "endDate = str(endTime.date()).replace('-','.')\n",
    "currentTime = str(date.today())\n",
    "\n",
    "fig = plt.figure(figsize=(16,12))  \n",
    "\n",
    "j = df_data.loc[df_data['Ticker'] == \"AAPL\"]\n",
    "j = j['WeightedMidPrice']\n",
    "j = np.array(j).astype(float)\n",
    "j = j[j != 0].copy()\n",
    "ax1 = plt.subplot(221)\n",
    "ax1.set(title=\"AAPL 1-minute weighted mid-price (source data: NYSE TAQ)\", xlabel=\"Observations\", ylabel=\"AAPL 1-min weighted mid-price\");\n",
    "ax1.plot(j, color='darkslategrey', linewidth=0.5)\n",
    "\n",
    "j = df_data.loc[df_data['Ticker'] == \"JPM\"]\n",
    "j = j['WeightedMidPrice']\n",
    "j = np.array(j).astype(float)\n",
    "j = j[j != 0].copy()\n",
    "ax2 = plt.subplot(222)\n",
    "ax2.set(title=\"JPM 1-minute weighted mid-price (source data: NYSE TAQ)\", xlabel=\"Observations\", ylabel=\"JPM 1-min weighted mid-price\") \n",
    "ax2.plot(j, color='saddlebrown', linewidth=0.5)\n",
    "\n",
    "plt.show();"
   ]
  },
  {
   "cell_type": "code",
   "execution_count": null,
   "metadata": {},
   "outputs": [],
   "source": [
    "# Log returns plots\n",
    "from scipy import stats\n",
    "import seaborn as sns\n",
    "sns.set()\n",
    "fig = plt.figure(figsize=(16,12))  \n",
    "\n",
    "# Log returns (NB: shown without removal of outliers)\n",
    "AAPL_lr = df_data.loc[df_data['Ticker'] == \"AAPL\"]\n",
    "AAPL_lr = np.log(AAPL_lr['WeightedMidPrice'].astype(float))\n",
    "AAPL_lr = AAPL_lr - AAPL_lr.shift(1)\n",
    "AAPL_lr = AAPL_lr[AAPL_lr.notna()].copy()\n",
    "AAPL_lr = AAPL_lr[AAPL_lr != 0].copy()\n",
    "JPM_lr = df_data.loc[df_data['Ticker'] == \"JPM\"]\n",
    "JPM_lr = np.log(JPM_lr['WeightedMidPrice'].astype(float))\n",
    "JPM_lr = JPM_lr - JPM_lr.shift(1)\n",
    "JPM_lr = JPM_lr[JPM_lr.notna()].copy()\n",
    "JPM_lr = JPM_lr[JPM_lr != 0].copy()\n",
    "\n",
    "j = np.array(AAPL_lr).astype(float)\n",
    "j = j[j != 0].copy()\n",
    "ax1 = plt.subplot(221)\n",
    "ax1.set(title=\"AAPL 1-minute WMP log returns (source data: NYSE TAQ)\", xlabel=\"Observations\", ylabel=\"AAPL 1-min WMP log returns\");\n",
    "ax1.plot(j, color='darkslategrey', linewidth=0.5, alpha=0.75)\n",
    "\n",
    "j = np.array(JPM_lr).astype(float)\n",
    "j = j[j != 0].copy()\n",
    "ax2 = plt.subplot(222)\n",
    "ax2.set(title=\"JPM 1-minute WMP log returns (source data: NYSE TAQ)\", xlabel=\"Observations\", ylabel=\"JPM 1-min WMP log returns\") \n",
    "ax2.plot(j, color='saddlebrown', linewidth=0.5, alpha=0.75)\n",
    "\n",
    "plt.show();"
   ]
  },
  {
   "cell_type": "code",
   "execution_count": null,
   "metadata": {},
   "outputs": [],
   "source": []
  }
 ],
 "metadata": {
  "kernelspec": {
   "display_name": "Python 3 (ipykernel)",
   "language": "python",
   "name": "python3"
  },
  "language_info": {
   "codemirror_mode": {
    "name": "ipython",
    "version": 3
   },
   "file_extension": ".py",
   "mimetype": "text/x-python",
   "name": "python",
   "nbconvert_exporter": "python",
   "pygments_lexer": "ipython3",
   "version": "3.10.6"
  }
 },
 "nbformat": 4,
 "nbformat_minor": 4
}
