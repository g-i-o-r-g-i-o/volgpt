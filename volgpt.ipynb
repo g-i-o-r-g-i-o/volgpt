{
 "cells": [
  {
   "cell_type": "markdown",
   "id": "75874666-e3ac-4cc7-ac24-b38a97ef5f8a",
   "metadata": {
    "execution": {
     "iopub.execute_input": "2023-02-05T21:36:41.372727Z",
     "iopub.status.busy": "2023-02-05T21:36:41.372173Z",
     "iopub.status.idle": "2023-02-05T21:36:41.379077Z",
     "shell.execute_reply": "2023-02-05T21:36:41.377483Z",
     "shell.execute_reply.started": "2023-02-05T21:36:41.372688Z"
    }
   },
   "source": [
    "# Introduction"
   ]
  },
  {
   "cell_type": "markdown",
   "id": "386c1731-7a29-43a4-8baf-71c9db62a787",
   "metadata": {},
   "source": [
    "In this post, I train Karpathy's __[nanoGPT](https://johncollinsai-nanogpt-voqqf4ls3a-as.a.run.app/)__ on high-frequency (tick-by-tick) data for __[AAPL](https://www.google.com/search?q=aapl&oq=AAPL&aqs=chrome.0.0i512l5j69i61l3.1590j1j9&sourceid=chrome&ie=UTF-8)__ and __[JPM](https://www.google.com/search?q=jpm+stock+price&oq=JPM+stock+pri&aqs=chrome.0.0i512j69i57j0i512l8.4577j1j9&sourceid=chrome&ie=UTF-8)__. I want to see how nanoGPT performs as a volatility predictor.  I also want to explore the use of LLMs for tasks, in this case volatility prediction, that are typically performed by models more specific to finance.  In the case of volatility prediction, the established model classes include stochastic volatility models such as the __[MSM](https://github.com/johncollinsai/markov-switching-multifractal)__ of Calvet & Fisher, ARCH and GARCH, and Jump Diffusion models. More recently deep learning has been applied to volatility prediction and this __[post](https://johncollinsai-deep-learning-finance-voqqf4ls3a-as.a.run.app/)__ describes these developments in some detail. However, the application of LLMs to volatility prediction appears to be quite novel and the use of nanoGPT provides a great basis for an under-the-hood examination."
   ]
  },
  {
   "cell_type": "markdown",
   "id": "23ec0a89",
   "metadata": {},
   "source": [
    "# Set up"
   ]
  },
  {
   "attachments": {},
   "cell_type": "markdown",
   "id": "3e305541",
   "metadata": {},
   "source": [
    "I begin with __[my earlier implementation of Karpathy's nanoGPT](https://github.com/johncollinsai/nanogpt)__. Starting with a very simple bigram language model, following Karpathy, I define and build a transformer piece by piece. Then I train it on a rigorously prepared tick-by-tick price dataset. In order to negate or reduce the impact of microstructure noise, and in particular Bid-Ask bounce, I compute a weighted mid-price (WMP) using the CloseBid and CloseAsk prices and sizes:"
   ]
  },
  {
   "cell_type": "markdown",
   "id": "f88dd32f",
   "metadata": {},
   "source": [
    "\\begin{align}\n",
    "    \\mathrm{WMP} = I P^a + \\left( 1 - I \\right) P^b\n",
    "\\end{align}"
   ]
  },
  {
   "cell_type": "markdown",
   "id": "884410d8",
   "metadata": {},
   "source": [
    "where the weight I is given by the imbalance:"
   ]
  },
  {
   "cell_type": "markdown",
   "id": "6dd2d68c",
   "metadata": {},
   "source": [
    "\\begin{align}\n",
    "    I = \\frac {Q^b} {Q^b + Q^a}\n",
    "\\end{align}"
   ]
  },
  {
   "cell_type": "markdown",
   "id": "fcaf9d62",
   "metadata": {},
   "source": [
    "where $Q^b$ is the bid size (that is, total volume at the best bid) and $Q^a$ is the ask size. I discuss microstructure noise, Bid-Ask bounce, WMP, and my motivation for using WMP, in detail in my post __[high frequency data](https://johncollinsai-high-frequency-data-voqqf4ls3a-as.a.run.app)__."
   ]
  },
  {
   "attachments": {},
   "cell_type": "markdown",
   "id": "7f64ef23",
   "metadata": {},
   "source": [
    "I use an NVIDIA GeForce RTX 3080 Ti Laptop GPU and a deep learning framework that includes PyTorch, CUDA, cuDNN, and NVIDIA Drivers, on Ubuntu 22.04 LTS.  Source code as always may be found on __[my GitHub](https://github.com/johncollinsai/nanogpt)__."
   ]
  },
  {
   "cell_type": "markdown",
   "id": "409a8460",
   "metadata": {},
   "source": [
    "# Fitting NanoGPT to tick-by-tick data"
   ]
  },
  {
   "cell_type": "markdown",
   "id": "c911d6c3",
   "metadata": {},
   "source": [
    "# Predicting volatility with NanoGPT"
   ]
  },
  {
   "cell_type": "markdown",
   "id": "ea89cde2-ec75-4b03-8ea5-2542d4c8427d",
   "metadata": {},
   "source": [
    "# References"
   ]
  },
  {
   "cell_type": "markdown",
   "id": "e6c7b950",
   "metadata": {},
   "source": [
    "Bollerslev, T., Hood, B., Huss, J., Pedersen, L.H. (2017). Risk Everywhere: Modeling and Managing Volatility. Available at SSRN: https://ssrn.com/abstract=2722591"
   ]
  },
  {
   "cell_type": "markdown",
   "id": "ef0b35d5",
   "metadata": {},
   "source": [
    "Calvet, L.E. & Fisher, A.J. (2008).  Multifractal Volatility Theory, Forecasting, and Pricing.  Elsevier, Academic Press."
   ]
  },
  {
   "cell_type": "markdown",
   "id": "9bc668cf-bc7f-4d43-a6de-690a28cb9897",
   "metadata": {},
   "source": [
    "__[Colab for Kaparthy's video](https://colab.research.google.com/drive/1JMLa53HDuA-i7ZBmqV7ZnA3c_fvtXnx-?usp=sharing)__"
   ]
  },
  {
   "cell_type": "markdown",
   "id": "1ad7cab4-1542-4340-80ad-1989bcf689a2",
   "metadata": {},
   "source": [
    "__[Kaparthy's nanoGPT GitHub repo](https://github.com/karpathy/nanoGPT)__"
   ]
  },
  {
   "cell_type": "markdown",
   "id": "f481fea7-f09f-409f-99fd-67c29b6a788c",
   "metadata": {},
   "source": [
    "__[Kaparthy's Youtube video](https://www.youtube.com/watch?v=kCc8FmEb1nY)__"
   ]
  },
  {
   "cell_type": "markdown",
   "id": "d7701f9c",
   "metadata": {},
   "source": [
    "Stoikov, S. (2020). The micro-price: A high frequency estimator of future prices. Available at SSRN: https://ssrn.com/abstract=2970694."
   ]
  },
  {
   "cell_type": "markdown",
   "id": "99032892-1126-456b-8baf-424b0b00552a",
   "metadata": {},
   "source": [
    "Vaswani, A., et al. (2017).  Attention Is All You Need. arXiv:1706.03762"
   ]
  },
  {
   "cell_type": "markdown",
   "id": "04df5bcd-28f1-4d99-b7f8-f6685edc947c",
   "metadata": {
    "execution": {
     "iopub.execute_input": "2023-02-09T04:06:52.202330Z",
     "iopub.status.busy": "2023-02-09T04:06:52.202069Z",
     "iopub.status.idle": "2023-02-09T04:06:52.355032Z",
     "shell.execute_reply": "2023-02-09T04:06:52.354010Z",
     "shell.execute_reply.started": "2023-02-09T04:06:52.202312Z"
    }
   },
   "source": [
    "***\n",
    "END"
   ]
  }
 ],
 "metadata": {
  "kernelspec": {
   "display_name": "Python 3 (ipykernel)",
   "language": "python",
   "name": "python3"
  },
  "language_info": {
   "codemirror_mode": {
    "name": "ipython",
    "version": 3
   },
   "file_extension": ".py",
   "mimetype": "text/x-python",
   "name": "python",
   "nbconvert_exporter": "python",
   "pygments_lexer": "ipython3",
   "version": "3.10.6"
  },
  "vscode": {
   "interpreter": {
    "hash": "e7370f93d1d0cde622a1f8e1c04877d8463912d04d973331ad4851f04de6915a"
   }
  }
 },
 "nbformat": 4,
 "nbformat_minor": 5
}
