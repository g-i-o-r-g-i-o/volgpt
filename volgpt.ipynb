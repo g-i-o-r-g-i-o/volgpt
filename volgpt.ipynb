{
 "cells": [
  {
   "attachments": {},
   "cell_type": "markdown",
   "metadata": {},
   "source": [
    "# Introduction"
   ]
  },
  {
   "attachments": {},
   "cell_type": "markdown",
   "metadata": {},
   "source": [
    "In this post, I train Karpathy's __[nanoGPT](https://johncollinsai-nanogpt-voqqf4ls3a-as.a.run.app/)__ on high-frequency (tick-by-tick) data for __[AAPL](https://www.google.com/search?q=aapl&oq=AAPL&aqs=chrome.0.0i512l5j69i61l3.1590j1j9&sourceid=chrome&ie=UTF-8)__ and __[JPM](https://www.google.com/search?q=jpm+stock+price&oq=JPM+stock+pri&aqs=chrome.0.0i512j69i57j0i512l8.4577j1j9&sourceid=chrome&ie=UTF-8)__. I want to see how nanoGPT performs as a volatility predictor.  I also want to explore the use of LLMs for tasks, in this case volatility prediction, that are typically performed by models more specific to finance.  In the case of volatility prediction, the established model classes include stochastic volatility models such as the __[MSM](https://github.com/johncollinsai/markov-switching-multifractal)__ of Calvet & Fisher, ARCH and GARCH, and Jump Diffusion models. More recently deep learning has been applied to volatility prediction and this __[post](https://johncollinsai-deep-learning-finance-voqqf4ls3a-as.a.run.app/)__ describes these developments in some detail. However, the application of LLMs to volatility prediction appears to be quite novel and the use of nanoGPT provides a great basis for an under-the-hood examination."
   ]
  },
  {
   "attachments": {},
   "cell_type": "markdown",
   "metadata": {},
   "source": [
    "My code implements NanoGPT using PyTorch as a single python file. I've created a function called train_and_generate that takes in a text file path, trains the model on the text in the file, and then generates new text. "
   ]
  },
  {
   "attachments": {},
   "cell_type": "markdown",
   "metadata": {},
   "source": [
    "My code has the following main components:\n",
    "\n",
    "> 1. Data preparation: Reads the input text file and encodes the characters into integer tokens. The data is then split into train and validation sets.\n",
    "> 2. Data loading: Function get_batch is defined to create batches of input and target sequences.\n",
    "> 3. Model components: Define several custom classes to implement the Transformer architecture, including Head, MultiHeadAttention, FeedFoward, Block, and BigramLanguageModel.\n",
    "> 4. Model instantiation: Create an instance of the BigramLanguageModel and move it to the GPU if available.\n",
    "> 5. Training loop: Train the model for a specified number of iterations with an AdamW optimizer, periodically evaluating the train and validation losses.\n",
    "> 6. Text generation: After training, the model generates new text using the generate method of the BigramLanguageModel class."
   ]
  },
  {
   "cell_type": "markdown",
   "metadata": {},
   "source": [
    "To use this code, simply provide the path to a text file as the text_file_path argument to the train_and_generate function. You can adjust the other function parameters like max_iters, learning_rate, and max_new_tokens as needed. The function will return the generated text."
   ]
  },
  {
   "attachments": {},
   "cell_type": "markdown",
   "metadata": {},
   "source": [
    "I begin with __[my earlier implementation of Karpathy's nanoGPT](https://github.com/johncollinsai/nanogpt)__. Starting with a very simple bigram language model, following Karpathy, I define and build a transformer piece by piece. Then I train it on a rigorously prepared tick-by-tick price dataset. In order to negate or reduce the impact of microstructure noise, and in particular Bid-Ask bounce, I compute a weighted mid-price ($WMP$) using the CloseBid and CloseAsk prices and sizes $\\mathrm{WMP} = I P^a + \\left( 1 - I \\right) P^b$, where the weight I is given by the imbalance $I = \\frac {Q^b} {Q^b + Q^a}$ where $Q^b$ is the bid size (that is, total volume at the best bid) and $Q^a$ is the ask size. I discuss microstructure noise, Bid-Ask bounce, $WMP$, and my motivation for using $WMP$, in detail in my post __[high frequency data](https://johncollinsai-high-frequency-data-voqqf4ls3a-as.a.run.app)__.  I obtain returns from thw $WMP$ and for tractability log returns."
   ]
  },
  {
   "attachments": {},
   "cell_type": "markdown",
   "metadata": {},
   "source": [
    "I use an NVIDIA GeForce RTX 3080 Ti Laptop GPU and a deep learning framework that includes PyTorch, CUDA, cuDNN, and NVIDIA Drivers, on Ubuntu 22.04 LTS.  Source code as always may be found on __[my GitHub](https://github.com/johncollinsai/nanogpt)__."
   ]
  },
  {
   "attachments": {},
   "cell_type": "markdown",
   "metadata": {},
   "source": [
    "# Fitting NanoGPT to tick-by-tick data"
   ]
  },
  {
   "attachments": {},
   "cell_type": "markdown",
   "metadata": {},
   "source": [
    "#### Import and prepare high-frequency tick data for AAPL and JPM"
   ]
  },
  {
   "cell_type": "code",
   "execution_count": 1,
   "metadata": {},
   "outputs": [
    {
     "name": "stdout",
     "output_type": "stream",
     "text": [
      "device: cuda\n",
      "Device name: NVIDIA GeForce RTX 3080 Ti Laptop GPU\n"
     ]
    }
   ],
   "source": [
    "# check GPU (if working on local machine)\n",
    "import torch\n",
    "if torch.cuda.is_available():\n",
    "    device = torch.device(\"cuda\")\n",
    "    print(f\"device: {device}\")\n",
    "    print(f\"Device name: {torch.cuda.get_device_name(0)}\")\n",
    "else:\n",
    "    print(\"CUDA is not available.\")"
   ]
  },
  {
   "cell_type": "code",
   "execution_count": 2,
   "metadata": {},
   "outputs": [],
   "source": [
    "# for running in docker image\n",
    "# device = 'cuda' if torch.cuda.is_available() else 'cpu'"
   ]
  },
  {
   "cell_type": "code",
   "execution_count": 3,
   "metadata": {},
   "outputs": [
    {
     "name": "stdout",
     "output_type": "stream",
     "text": [
      "df_data_AAPL.shape:  (533860, 8) \n",
      "\n",
      "df_data_JPM.shape:  (537011, 8) \n",
      "\n",
      "no missing_rows_AAPL rows with missing values\n",
      "no missing_rows_JPM rows with missing values\n"
     ]
    },
    {
     "data": {
      "text/html": [
       "<div>\n",
       "<style scoped>\n",
       "    .dataframe tbody tr th:only-of-type {\n",
       "        vertical-align: middle;\n",
       "    }\n",
       "\n",
       "    .dataframe tbody tr th {\n",
       "        vertical-align: top;\n",
       "    }\n",
       "\n",
       "    .dataframe thead th {\n",
       "        text-align: right;\n",
       "    }\n",
       "</style>\n",
       "<table border=\"1\" class=\"dataframe\">\n",
       "  <thead>\n",
       "    <tr style=\"text-align: right;\">\n",
       "      <th></th>\n",
       "      <th>Ticker</th>\n",
       "      <th>CloseBidSize</th>\n",
       "      <th>CloseAskSize</th>\n",
       "      <th>CloseBidPrice</th>\n",
       "      <th>CloseAskPrice</th>\n",
       "      <th>WeightedMidPrice</th>\n",
       "      <th>AAPL_rr</th>\n",
       "      <th>AAPL_lr</th>\n",
       "    </tr>\n",
       "    <tr>\n",
       "      <th>DateTimeIndex</th>\n",
       "      <th></th>\n",
       "      <th></th>\n",
       "      <th></th>\n",
       "      <th></th>\n",
       "      <th></th>\n",
       "      <th></th>\n",
       "      <th></th>\n",
       "      <th></th>\n",
       "    </tr>\n",
       "  </thead>\n",
       "  <tbody>\n",
       "    <tr>\n",
       "      <th>2019-12-18 04:00:00</th>\n",
       "      <td>AAPL</td>\n",
       "      <td>100.00000000</td>\n",
       "      <td>2300.00000000</td>\n",
       "      <td>280.18000000</td>\n",
       "      <td>280.99000000</td>\n",
       "      <td>280.21375000</td>\n",
       "      <td>nan</td>\n",
       "      <td>nan</td>\n",
       "    </tr>\n",
       "    <tr>\n",
       "      <th>2019-12-18 04:01:00</th>\n",
       "      <td>AAPL</td>\n",
       "      <td>100.00000000</td>\n",
       "      <td>2300.00000000</td>\n",
       "      <td>280.03000000</td>\n",
       "      <td>280.99000000</td>\n",
       "      <td>280.07000000</td>\n",
       "      <td>-0.14375000</td>\n",
       "      <td>-0.00051313</td>\n",
       "    </tr>\n",
       "    <tr>\n",
       "      <th>2019-12-18 04:02:00</th>\n",
       "      <td>AAPL</td>\n",
       "      <td>100.00000000</td>\n",
       "      <td>100.00000000</td>\n",
       "      <td>280.03000000</td>\n",
       "      <td>280.90000000</td>\n",
       "      <td>280.46500000</td>\n",
       "      <td>0.39500000</td>\n",
       "      <td>0.00140937</td>\n",
       "    </tr>\n",
       "    <tr>\n",
       "      <th>2019-12-18 04:03:00</th>\n",
       "      <td>AAPL</td>\n",
       "      <td>100.00000000</td>\n",
       "      <td>100.00000000</td>\n",
       "      <td>280.03000000</td>\n",
       "      <td>280.90000000</td>\n",
       "      <td>280.46500000</td>\n",
       "      <td>0.00000000</td>\n",
       "      <td>0.00000000</td>\n",
       "    </tr>\n",
       "    <tr>\n",
       "      <th>2019-12-18 04:04:00</th>\n",
       "      <td>AAPL</td>\n",
       "      <td>100.00000000</td>\n",
       "      <td>100.00000000</td>\n",
       "      <td>280.03000000</td>\n",
       "      <td>280.65000000</td>\n",
       "      <td>280.34000000</td>\n",
       "      <td>-0.12500000</td>\n",
       "      <td>-0.00044579</td>\n",
       "    </tr>\n",
       "    <tr>\n",
       "      <th>2019-12-18 04:05:00</th>\n",
       "      <td>AAPL</td>\n",
       "      <td>100.00000000</td>\n",
       "      <td>100.00000000</td>\n",
       "      <td>280.08000000</td>\n",
       "      <td>280.65000000</td>\n",
       "      <td>280.36500000</td>\n",
       "      <td>0.02500000</td>\n",
       "      <td>0.00008917</td>\n",
       "    </tr>\n",
       "    <tr>\n",
       "      <th>2019-12-18 04:06:00</th>\n",
       "      <td>AAPL</td>\n",
       "      <td>100.00000000</td>\n",
       "      <td>100.00000000</td>\n",
       "      <td>280.08000000</td>\n",
       "      <td>280.67000000</td>\n",
       "      <td>280.37500000</td>\n",
       "      <td>0.01000000</td>\n",
       "      <td>0.00003567</td>\n",
       "    </tr>\n",
       "    <tr>\n",
       "      <th>2019-12-18 04:07:00</th>\n",
       "      <td>AAPL</td>\n",
       "      <td>100.00000000</td>\n",
       "      <td>100.00000000</td>\n",
       "      <td>280.03000000</td>\n",
       "      <td>280.38000000</td>\n",
       "      <td>280.20500000</td>\n",
       "      <td>-0.17000000</td>\n",
       "      <td>-0.00060651</td>\n",
       "    </tr>\n",
       "    <tr>\n",
       "      <th>2019-12-18 04:08:00</th>\n",
       "      <td>AAPL</td>\n",
       "      <td>100.00000000</td>\n",
       "      <td>100.00000000</td>\n",
       "      <td>280.03000000</td>\n",
       "      <td>280.38000000</td>\n",
       "      <td>280.20500000</td>\n",
       "      <td>0.00000000</td>\n",
       "      <td>0.00000000</td>\n",
       "    </tr>\n",
       "    <tr>\n",
       "      <th>2019-12-18 04:09:00</th>\n",
       "      <td>AAPL</td>\n",
       "      <td>100.00000000</td>\n",
       "      <td>100.00000000</td>\n",
       "      <td>280.03000000</td>\n",
       "      <td>280.38000000</td>\n",
       "      <td>280.20500000</td>\n",
       "      <td>0.00000000</td>\n",
       "      <td>0.00000000</td>\n",
       "    </tr>\n",
       "  </tbody>\n",
       "</table>\n",
       "</div>"
      ],
      "text/plain": [
       "                    Ticker  CloseBidSize   CloseAskSize CloseBidPrice CloseAskPrice WeightedMidPrice      AAPL_rr      AAPL_lr\n",
       "DateTimeIndex                                                                                                                 \n",
       "2019-12-18 04:00:00   AAPL  100.00000000  2300.00000000  280.18000000  280.99000000     280.21375000          nan          nan\n",
       "2019-12-18 04:01:00   AAPL  100.00000000  2300.00000000  280.03000000  280.99000000     280.07000000  -0.14375000  -0.00051313\n",
       "2019-12-18 04:02:00   AAPL  100.00000000   100.00000000  280.03000000  280.90000000     280.46500000   0.39500000   0.00140937\n",
       "2019-12-18 04:03:00   AAPL  100.00000000   100.00000000  280.03000000  280.90000000     280.46500000   0.00000000   0.00000000\n",
       "2019-12-18 04:04:00   AAPL  100.00000000   100.00000000  280.03000000  280.65000000     280.34000000  -0.12500000  -0.00044579\n",
       "2019-12-18 04:05:00   AAPL  100.00000000   100.00000000  280.08000000  280.65000000     280.36500000   0.02500000   0.00008917\n",
       "2019-12-18 04:06:00   AAPL  100.00000000   100.00000000  280.08000000  280.67000000     280.37500000   0.01000000   0.00003567\n",
       "2019-12-18 04:07:00   AAPL  100.00000000   100.00000000  280.03000000  280.38000000     280.20500000  -0.17000000  -0.00060651\n",
       "2019-12-18 04:08:00   AAPL  100.00000000   100.00000000  280.03000000  280.38000000     280.20500000   0.00000000   0.00000000\n",
       "2019-12-18 04:09:00   AAPL  100.00000000   100.00000000  280.03000000  280.38000000     280.20500000   0.00000000   0.00000000"
      ]
     },
     "execution_count": 3,
     "metadata": {},
     "output_type": "execute_result"
    }
   ],
   "source": [
    "import pandas as pd\n",
    "from volgpt_data import high_frequency_data\n",
    "pd.set_option('display.width', 1000)  # Set pandas display width to 1000 characters\n",
    "\n",
    "df_data_AAPL, df_data_JPM, AAPL_rr, JPM_rr, AAPL_lr, JPM_lr, AAPL_stats, JPM_stats = high_frequency_data(dp=8) # pass dp, being the number of decimal places to round to \n",
    "missing_rows_AAPL = df_data_AAPL[df_data_AAPL.isnull().any(axis=1)] # Check for rows with missing values, AAPL\n",
    "missing_rows_JPM = df_data_JPM[df_data_JPM.isnull().any(axis=1)] # Check for rows with missing values, JPM\n",
    "\n",
    "print('df_data_AAPL.shape: ', df_data_AAPL.shape, '\\n')\n",
    "print('df_data_JPM.shape: ', df_data_JPM.shape, '\\n')\n",
    "if missing_rows_AAPL.shape[0] == 0:\n",
    "    print(\"no missing_rows_AAPL rows with missing values\")\n",
    "else:\n",
    "    print('missing AAPL rows: ', missing_rows_AAPL.shape, '\\n') # print number of rows with missing values\n",
    "if missing_rows_JPM.shape[0] == 0:\n",
    "    print(\"no missing_rows_JPM rows with missing values\")\n",
    "else:\n",
    "    print('missing JPM rows: ', missing_rows_JPM.shape, '\\n') # print number of rows with missing values\n",
    "\n",
    "df_data_AAPL.head(10)"
   ]
  },
  {
   "attachments": {},
   "cell_type": "markdown",
   "metadata": {},
   "source": [
    "#### Descriptive statistics"
   ]
  },
  {
   "cell_type": "code",
   "execution_count": 4,
   "metadata": {},
   "outputs": [
    {
     "name": "stdout",
     "output_type": "stream",
     "text": [
      "Descriptive statistics for AAPL:  \n",
      "Number of observations =  444470 \n",
      "Minimum, Maximum =  (-152.83124999999998, 165.5690434782609) \n",
      "Mean = -0.00017 \n",
      "Variance = 4.54474 \n",
      "Standard deviation = 2.13184 \n",
      "Skewness = 1.33822 \n",
      "Kurtosis = 2684.83480 \n",
      "\n",
      "Descriptive statistics for JPM:  \n",
      "Number of observations =  332093 \n",
      "Minimum, Maximum =  (-39.10681818181817, 50.888157894736835) \n",
      "Mean = -0.00007 \n",
      "Variance = 0.38692 \n",
      "Standard deviation = 0.62203 \n",
      "Skewness = -1.59559 \n",
      "Kurtosis = 1684.46534\n"
     ]
    }
   ],
   "source": [
    "# Descriptive statistics\n",
    "from scipy import stats\n",
    "\n",
    "print(\"Descriptive statistics for AAPL: \",\"\\n\"\n",
    "      \"Number of observations = \",AAPL_stats.nobs,\"\\n\"\n",
    "      \"Minimum, Maximum = \", str(AAPL_stats.minmax),\"\\n\"\n",
    "      \"Mean = %.5f\" %  AAPL_stats.mean,\"\\n\"\n",
    "      \"Variance = %.5f\" %  AAPL_stats.variance,\"\\n\"\n",
    "      \"Standard deviation = %.5f\" %  AAPL_stats.variance**0.5,\"\\n\"\n",
    "      \"Skewness = %.5f\" %  AAPL_stats.skewness,\"\\n\"\n",
    "      \"Kurtosis = %.5f\" %  AAPL_stats.kurtosis,\"\\n\") \n",
    "\n",
    "print(\"Descriptive statistics for JPM: \",\"\\n\"\n",
    "      \"Number of observations = \",JPM_stats.nobs,\"\\n\"\n",
    "      \"Minimum, Maximum = \", str(JPM_stats.minmax),\"\\n\"\n",
    "      \"Mean = %.5f\" %  JPM_stats.mean,\"\\n\"\n",
    "      \"Variance = %.5f\" %  JPM_stats.variance,\"\\n\"\n",
    "      \"Standard deviation = %.5f\" %  JPM_stats.variance**0.5,\"\\n\"\n",
    "      \"Skewness = %.5f\" %  JPM_stats.skewness,\"\\n\"\n",
    "      \"Kurtosis = %.5f\" %  JPM_stats.kurtosis)"
   ]
  },
  {
   "attachments": {},
   "cell_type": "markdown",
   "metadata": {},
   "source": [
    "#### Plot raw returns and log returns"
   ]
  },
  {
   "cell_type": "code",
   "execution_count": 5,
   "metadata": {},
   "outputs": [
    {
     "data": {
      "image/png": "[encoded data removed]",
      "text/plain": [
       "<Figure size 864x432 with 2 Axes>"
      ]
     },
     "metadata": {},
     "output_type": "display_data"
    }
   ],
   "source": [
    "import numpy as np\n",
    "import pandas as pd\n",
    "import matplotlib.pyplot as plt\n",
    "import seaborn as sns\n",
    "\n",
    "sns.set_theme(style='darkgrid') # Set Seaborn dark theme\n",
    "fig, (ax1, ax2) = plt.subplots(1, 2, figsize=(12, 6))\n",
    "\n",
    "# Plot AAPL\n",
    "z = df_data_AAPL['WeightedMidPrice']\n",
    "z = z.replace('UNK', np.nan)  # Replace 'UNK' values with NaN\n",
    "z = z.astype(float).dropna()  # Convert the series to float type and drop NaN values\n",
    "z = z[z != 0].copy()  # Filter out zero values\n",
    "z.plot(ax=ax1, title=\"AAPL 1-minute weighted mid-price (source data: NYSE TAQ)\", xlabel=\"Observations\", ylabel=\"AAPL 1-min weighted mid-price\", color='darkslategrey', linewidth=1.0, alpha=0.75)\n",
    "\n",
    "# Plot JPM\n",
    "z1 = df_data_JPM['WeightedMidPrice']\n",
    "z1 = z1.replace('UNK', np.nan)  # Replace 'UNK' values with NaN\n",
    "z1 = z1.astype(float).dropna()  # Convert the series to float type and drop NaN values\n",
    "z1 = z1[z1 != 0].copy()  # Filter out zero values\n",
    "z1.plot(ax=ax2, title=\"JPM 1-minute weighted mid-price (source data: NYSE TAQ)\", xlabel=\"Observations\", ylabel=\"JPM 1-min weighted mid-price\", color='saddlebrown', linewidth=1.0, alpha=0.75)\n",
    "\n",
    "plt.tight_layout()\n",
    "plt.show()"
   ]
  },
  {
   "cell_type": "code",
   "execution_count": 6,
   "metadata": {},
   "outputs": [
    {
     "data": {
      "image/png": "[encoded data removed]",
      "text/plain": [
       "<Figure size 864x432 with 2 Axes>"
      ]
     },
     "metadata": {},
     "output_type": "display_data"
    }
   ],
   "source": [
    "import numpy as np\n",
    "import pandas as pd\n",
    "import matplotlib.pyplot as plt\n",
    "import seaborn as sns\n",
    "\n",
    "sns.set_theme(style='darkgrid') # Set Seaborn dark theme\n",
    "fig, (ax1, ax2) = plt.subplots(1, 2, figsize=(12, 6))\n",
    "\n",
    "# Plot AAPL\n",
    "z = AAPL_lr\n",
    "z = z.replace('UNK', np.nan)  # Replace 'UNK' values with NaN\n",
    "z = z.astype(float).dropna()  # Convert the series to float type and drop NaN values\n",
    "z = z[z != 0].copy()  # Filter out zero values\n",
    "z.plot(ax=ax1, title=\"AAPL log returns (source data: NYSE TAQ)\", xlabel=\"Observations\", ylabel=\"AAPL log return\", color='darkslategrey', linewidth=1.0, alpha=0.75)\n",
    "\n",
    "# Plot JPM\n",
    "z1 = JPM_lr\n",
    "z1 = z1.replace('UNK', np.nan)  # Replace 'UNK' values with NaN\n",
    "z1 = z1.astype(float).dropna()  # Convert the series to float type and drop NaN values\n",
    "z1 = z1[z1 != 0].copy()  # Filter out zero values\n",
    "z1.plot(ax=ax2, title=\"JPM log returns (source data: NYSE TAQ)\", xlabel=\"Observations\", ylabel=\"JPM log return\", color='saddlebrown', linewidth=1.0, alpha=0.75)\n",
    "\n",
    "plt.tight_layout()\n",
    "plt.show()"
   ]
  },
  {
   "cell_type": "markdown",
   "metadata": {},
   "source": [
    "#### Create text file for input to NanoGPT"
   ]
  },
  {
   "cell_type": "code",
   "execution_count": 7,
   "metadata": {},
   "outputs": [
    {
     "name": "stdout",
     "output_type": "stream",
     "text": [
      "shape of df_data_AAPL:  (533860, 8)\n",
      "shape of df_exported_AAPL:  (533860, 9)\n",
      "shape of df_data_JPM:  (537011, 8)\n",
      "shape of df_exported_JPM:  (537011, 9)\n"
     ]
    }
   ],
   "source": [
    "# save df_data_AAPL and df_data_JPM as a text file with a comma delimiter\n",
    "df_data_AAPL.to_csv('df_data_AAPL.txt', sep=',', index=True)\n",
    "df_data_JPM.to_csv('df_data_JPM.txt', sep=',', index=True)\n",
    "\n",
    "# Check that the text file was saved correctly\n",
    "df_exported_AAPL = pd.read_csv('df_data_AAPL.txt', sep=',') # read the text file into a dataframe\n",
    "df_exported_JPM = pd.read_csv('df_data_JPM.txt', sep=',') # read the text file into a dataframe\n",
    "\n",
    "print('shape of df_data_AAPL: ', df_data_AAPL.shape)\n",
    "print('shape of df_exported_AAPL: ', df_exported_AAPL.shape)\n",
    "print('shape of df_data_JPM: ', df_data_JPM.shape)\n",
    "print('shape of df_exported_JPM: ', df_exported_JPM.shape)"
   ]
  },
  {
   "attachments": {},
   "cell_type": "markdown",
   "metadata": {},
   "source": [
    "#### From ChatGPT re structure of text file:\n",
    "\n",
    "> \"In this example, we first create a sample dataframe called df. We then use the to_csv method to save the dataframe to a file called data.txt. The sep parameter specifies the delimiter to use in the text file (in this case, a tab character), and the index parameter is set to False to exclude the index from the output.  You can customize the parameters of to_csv method as per your requirements.\"\n",
    "\n",
    "#### My next prompt: \n",
    "\n",
    "> I shall use data.txt as an input to a large language model (Karpathy's NanoGPT).  Should I include the sep='/t' parameter?\n",
    "\n",
    "#### ChatGPT:\n",
    "\n",
    "> \"Yes, you should include the sep='\\t' parameter in the to_csv method to specify the delimiter as a tab character. <br> <br>\n",
    "> If the input file for Karpathy's NanoGPT expects tab-separated values, you need to ensure that the file you're providing is also in the same format. In the example I provided earlier, the sep='\\t' parameter specifies that the data will be saved as tab-separated values. <br> <br>\n",
    "> Therefore, including this parameter will ensure that the saved text file has a tab-separated format, which is the expected format for input to Karpathy's NanoGPT.\""
   ]
  },
  {
   "attachments": {},
   "cell_type": "markdown",
   "metadata": {},
   "source": [
    "# Load data into NanoGPT"
   ]
  },
  {
   "attachments": {},
   "cell_type": "markdown",
   "metadata": {},
   "source": [
    "# Generate tick data\n",
    "\n",
    "The decode() function is used to convert the output produced by m.generate() from the list of token IDs to a human-readable string. The output of m.generate() is a tensor of long integers, which is converted to a Python list with .tolist(). Then, the resulting list is passed as an argument to decode(), which uses volGPT's trained bigram language model to convert the token IDs to the corresponding text representations. Finally, the output of decode() is assigned to the variable pred."
   ]
  },
  {
   "attachments": {},
   "cell_type": "markdown",
   "metadata": {},
   "source": [
    "> * I generate 50k tokens, and then decode the tokens into a string. The output string, pred, contains a list of financial data points, including stock names (e.g., AAPL, JPM), timestamps, and the various numerical values. Each row of data starts with the stock symbol (e.g., AAPL or JPM), followed by a timestamp (e.g., 10:01:00.000000000 or 17:19:00.000000000). After the timestamp, the other data are separated by commas. \n",
    "> * Note that I generate 50k tokens because I need a lot of generated text to get datetimestamps that align between the generated high frequency data and the real high frequency data"
   ]
  },
  {
   "cell_type": "markdown",
   "metadata": {},
   "source": [
    "# SUPER-IMPORTANT | REMOVE test COLUMN FROM RESULTS PRINT"
   ]
  },
  {
   "cell_type": "code",
   "execution_count": 8,
   "metadata": {},
   "outputs": [
    {
     "name": "stdout",
     "output_type": "stream",
     "text": [
      "0.207149 M parameters\n",
      "step 0: train loss 3.9630, val loss 3.9613, test loss 3.9599\n",
      "step 100: train loss 1.6206, val loss 1.6177, test loss 1.5886\n",
      "step 200: train loss 1.1799, val loss 1.1919, test loss 1.1916\n",
      "step 300: train loss 1.0185, val loss 1.0271, test loss 1.0123\n",
      "step 400: train loss 0.9441, val loss 0.9492, test loss 0.9446\n",
      "step 500: train loss 0.9114, val loss 0.9123, test loss 0.9245\n",
      "step 600: train loss 0.8843, val loss 0.8874, test loss 0.8774\n",
      "step 700: train loss 0.8742, val loss 0.8835, test loss 0.8753\n",
      "step 800: train loss 0.8666, val loss 0.8682, test loss 0.8532\n",
      "step 900: train loss 0.8685, val loss 0.8625, test loss 0.8631\n",
      "step 1000: train loss 0.8363, val loss 0.8307, test loss 0.8450\n",
      "step 1100: train loss 0.8358, val loss 0.8436, test loss 0.8334\n",
      "step 1200: train loss 0.8317, val loss 0.8255, test loss 0.8271\n",
      "step 1300: train loss 0.8261, val loss 0.8253, test loss 0.8329\n",
      "step 1400: train loss 0.8269, val loss 0.8153, test loss 0.8282\n",
      "step 1500: train loss 0.8213, val loss 0.8162, test loss 0.8142\n",
      "step 1600: train loss 0.7996, val loss 0.7962, test loss 0.8021\n",
      "step 1700: train loss 0.8163, val loss 0.8037, test loss 0.8118\n",
      "step 1800: train loss 0.7958, val loss 0.8090, test loss 0.8062\n",
      "step 1900: train loss 0.8180, val loss 0.8095, test loss 0.7991\n",
      "step 2000: train loss 0.8001, val loss 0.7995, test loss 0.8001\n",
      "step 2100: train loss 0.7880, val loss 0.7915, test loss 0.7936\n",
      "step 2200: train loss 0.7852, val loss 0.7915, test loss 0.7919\n",
      "step 2300: train loss 0.8036, val loss 0.7894, test loss 0.7935\n",
      "step 2400: train loss 0.7948, val loss 0.7995, test loss 0.7801\n",
      "step 2500: train loss 0.7820, val loss 0.7875, test loss 0.7863\n",
      "step 2600: train loss 0.7923, val loss 0.7837, test loss 0.7823\n",
      "step 2700: train loss 0.7774, val loss 0.7676, test loss 0.7676\n",
      "step 2800: train loss 0.7741, val loss 0.7569, test loss 0.7650\n",
      "step 2900: train loss 0.7596, val loss 0.7597, test loss 0.7539\n",
      "step 3000: train loss 0.7613, val loss 0.7689, test loss 0.7612\n",
      "step 3100: train loss 0.7483, val loss 0.7620, test loss 0.7588\n",
      "step 3200: train loss 0.7464, val loss 0.7467, test loss 0.7491\n",
      "step 3300: train loss 0.7476, val loss 0.7448, test loss 0.7460\n",
      "step 3400: train loss 0.7640, val loss 0.7523, test loss 0.7437\n",
      "step 3500: train loss 0.7493, val loss 0.7424, test loss 0.7449\n",
      "step 3600: train loss 0.7447, val loss 0.7338, test loss 0.7375\n",
      "step 3700: train loss 0.7517, val loss 0.7465, test loss 0.7402\n",
      "step 3800: train loss 0.7287, val loss 0.7424, test loss 0.7285\n",
      "step 3900: train loss 0.7374, val loss 0.7427, test loss 0.7372\n",
      "step 4000: train loss 0.7312, val loss 0.7169, test loss 0.7330\n",
      "step 4100: train loss 0.7323, val loss 0.7371, test loss 0.7393\n",
      "step 4200: train loss 0.7237, val loss 0.7230, test loss 0.7197\n",
      "step 4300: train loss 0.7115, val loss 0.7261, test loss 0.7221\n",
      "step 4400: train loss 0.7224, val loss 0.7264, test loss 0.7206\n",
      "step 4500: train loss 0.7226, val loss 0.7290, test loss 0.7299\n",
      "step 4600: train loss 0.7257, val loss 0.7315, test loss 0.7318\n",
      "step 4700: train loss 0.7234, val loss 0.7263, test loss 0.7305\n",
      "step 4800: train loss 0.7167, val loss 0.7213, test loss 0.7234\n",
      "step 4900: train loss 0.7117, val loss 0.7132, test loss 0.7203\n",
      "step 4999: train loss 0.7196, val loss 0.7179, test loss 0.7234\n"
     ]
    }
   ],
   "source": [
    "# use volgpt to generate text\n",
    "from volgpt import train_and_generate\n",
    "\n",
    "# Set max_new_tokens sufficiently high that date-time stamps match the original data\n",
    "max_new_tokens=50000\n",
    "\n",
    "# obtain test_data and preds from the function train_and_generate\n",
    "text_file_path = 'df_data_AAPL.txt' # specify the path to the text file\n",
    "test_data, generated_text, itos = train_and_generate(text_file_path, \n",
    "                                                     max_iters=5000, \n",
    "                                                     learning_rate=1e-3, \n",
    "                                                     device=device, \n",
    "                                                     max_new_tokens=max_new_tokens)\n",
    "\n",
    "# print(generated_text)"
   ]
  },
  {
   "attachments": {},
   "cell_type": "markdown",
   "metadata": {},
   "source": [
    "#### Clean preds and convert data types\n",
    "\n",
    "> My clean_data function takes in a text_data string containing preds in CSV format and column names as a list. I clean the data by removing invalid rows, and convert the data types of the columns. The function returns a tuple of three values: the original DataFrame, the cleaned DataFrame, and a list of indices of invalid rows."
   ]
  },
  {
   "cell_type": "code",
   "execution_count": 9,
   "metadata": {},
   "outputs": [
    {
     "name": "stdout",
     "output_type": "stream",
     "text": [
      "Original DataFrame: \n",
      "           DateTimeIndex      Ticker   CloseBidSize  CloseAskSize CloseBidPrice  CloseAskPrice WeightedMidPrice            rr            lr\n",
      "0    2018-02-13 26:32:00        AAPL   200.00000000         100.0  164.21000000         164.44     164.41429421   -0.02285420           NaN\n",
      "1    2018-02-21 04:36:00        AAPL   100.00000000         300.0  188.86000000         188.08     188.95000000  188.05000000  188.90268571\n",
      "2    2018-08-11 04:51:00        AAPL   100.00000000         400.0  193.96000000         193.87     193.80000000  193.97500000    0.00000000\n",
      "3    2019-06-27 16:16:00        AAPL   900.00000000         300.0  198.51000000         198.47     198.63275159    0.00394082           NaN\n",
      "4    2020-07-01 10:13:00        AAPL   100.00000000         100.0  181.54000000         181.70     181.59000000  181.70000000  181.51454555\n",
      "..                   ...         ...            ...           ...           ...            ...              ...           ...           ...\n",
      "417         201.26017154  0.00051964            NaN           NaN           NaN            NaN              NaN           NaN           NaN\n",
      "418  2019-06-21 19:55:00        AAPL   100.00000000         100.0  174.37000000         174.30     174.95000000  174.49666667    0.00000000\n",
      "419  2019-11-04 25:19:00        AAPL  5000.00000000         100.0  219.37000000         219.79     219.33571429    0.02857061    0.00000142\n",
      "420  2019-01-09 18:37:00        AAPL   100.00000000         500.0  194.06000000         194.00     194.16000000  194.50000000  194.05675857\n",
      "421  2019-06-29 18:01:00        AAPL   500.00000000         100.0  152.90000000         152.93     152.96000000  152.93031462   -0.07270112\n",
      "\n",
      "[422 rows x 9 columns]\n",
      "Cleaned DataFrame: \n",
      "          DateTimeIndex Ticker  CloseBidSize  CloseAskSize  CloseBidPrice  CloseAskPrice  WeightedMidPrice          rr          lr\n",
      "1   2018-02-21 04:36:00   AAPL         100.0         300.0         188.86         188.08        188.950000  188.050000  188.902686\n",
      "2   2018-08-11 04:51:00   AAPL         100.0         400.0         193.96         193.87        193.800000  193.975000    0.000000\n",
      "4   2020-07-01 10:13:00   AAPL         100.0         100.0         181.54         181.70        181.590000  181.700000  181.514546\n",
      "5   2020-03-24 01:55:00   AAPL         700.0         400.0         162.45         162.40        162.580000  162.571424   -0.027692\n",
      "7   2018-07-24 08:36:00   AAPL         100.0         600.0         191.24         191.21        191.257607    0.002485    0.000056\n",
      "..                  ...    ...           ...           ...            ...            ...               ...         ...         ...\n",
      "414 2020-03-29 12:19:00   AAPL         100.0         100.0         175.59         175.55        175.850000  175.633333    0.000000\n",
      "415 2018-11-21 09:16:00   AAPL         300.0         300.0         166.64         166.60        166.499770    0.048121    0.000158\n",
      "418 2019-06-21 19:55:00   AAPL         100.0         100.0         174.37         174.30        174.950000  174.496667    0.000000\n",
      "420 2019-01-09 18:37:00   AAPL         100.0         500.0         194.06         194.00        194.160000  194.500000  194.056759\n",
      "421 2019-06-29 18:01:00   AAPL         500.0         100.0         152.90         152.93        152.960000  152.930315   -0.072701\n",
      "\n",
      "[304 rows x 9 columns]\n",
      "Invalid Rows: \n",
      "[0, 3, 6, 8, 10, 13, 23, 34, 42, 44, 45, 47, 51, 56, 57, 72, 76, 77, 82, 86, 91, 93, 97, 99, 100, 101, 104, 108, 111, 112, 121, 127, 128, 131, 132, 139, 142, 146, 147, 150, 151, 153, 159, 162, 164, 167, 171, 173, 174, 179, 182, 186, 187, 192, 198, 201, 203, 205, 206, 208, 218, 219, 220, 225, 228, 234, 237, 241, 251, 254, 256, 259, 271, 278, 279, 280, 281, 284, 290, 291, 292, 293, 295, 297, 301, 303, 310, 311, 314, 316, 319, 320, 321, 325, 327, 331, 334, 336, 341, 343, 345, 346, 347, 352, 353, 356, 359, 365, 368, 380, 383, 400, 404, 410, 413, 416, 417, 419]\n"
     ]
    }
   ],
   "source": [
    "# clean the data using clean_data function in clean_data.py\n",
    "from clean_data import clean_data\n",
    "df, df_clean, invalid_rows = clean_data(generated_text)\n",
    "\n",
    "print(\"Original DataFrame: \")\n",
    "print(df)\n",
    "\n",
    "print(\"Cleaned DataFrame: \")\n",
    "print(df_clean)\n",
    "\n",
    "print(\"Invalid Rows: \")\n",
    "print(invalid_rows)"
   ]
  },
  {
   "attachments": {},
   "cell_type": "markdown",
   "metadata": {},
   "source": [
    "### OK, SO WHAT NEXT?\n",
    "\n",
    "> * maybe I just skip with MZ regressions, FFS\n",
    "> * Do MSE and MAE instead\n",
    "> * I have generated text and test data\n",
    "> * I have clean generated text\n",
    "> * do I need to clean the actual test_data too?\n",
    "> * do I need to align the timing of the preds and the test_data?\n",
    "\n",
    "### Answers to the above:\n",
    "\n",
    "> * Yes, it is essential to clean and preprocess test_data in the same way as you did for the generated predictions. This will ensure that the data is in a consistent format, and you can compare the model's predictions with the actual data accurately.\n",
    "\n",
    "> * Yes, you need to align the timing of the predictions and the test data. If the model's predictions and the test data have different time steps, it is impossible to accurately calculate the MSE and MAE. Ensure that both datasets are aligned in terms of their time steps before calculating the performance metrics.\n",
    "\n",
    "> * Assuming that you have cleaned and preprocessed both the generated predictions and the test_data, and have aligned their time steps, you can calculate the MSE and MAE as follows:"
   ]
  },
  {
   "cell_type": "markdown",
   "metadata": {},
   "source": [
    "#### Evaluate the model (MSE and MAE)"
   ]
  },
  {
   "cell_type": "markdown",
   "metadata": {},
   "source": [
    "I evaluate the accuracy of the raw return and log return predictions by the model using Mean Squared Error (MSE) and Mean Absolute Error (MAE). To briefly recap:\n",
    "\n",
    "* Mean Squared Error (MSE) measures the average squared difference between the predicted values and the actual values. A lower MSE indicates better accuracy.\n",
    "\n",
    "* Mean Absolute Error (MAE) measures the average absolute difference between the predicted values and the actual values. This metric is less sensitive to outliers compared to MSE."
   ]
  },
  {
   "attachments": {},
   "cell_type": "markdown",
   "metadata": {},
   "source": [
    "# MOVE THE CODE BELOW INTO A PYTHON FILE 'stats.py' AND PUT mz_reg.py into this file too\n"
   ]
  },
  {
   "cell_type": "code",
   "execution_count": 10,
   "metadata": {},
   "outputs": [
    {
     "ename": "NameError",
     "evalue": "name 'clean_data' is not defined",
     "output_type": "error",
     "traceback": [
      "\u001b[0;31m---------------------------------------------------------------------------\u001b[0m",
      "\u001b[0;31mNameError\u001b[0m                                 Traceback (most recent call last)",
      "\u001b[0;32m/tmp/ipykernel_5765/3687030275.py\u001b[0m in \u001b[0;36m<module>\u001b[0;34m\u001b[0m\n\u001b[1;32m      1\u001b[0m \u001b[0;31m# statistical analysis of the generated data\u001b[0m\u001b[0;34m\u001b[0m\u001b[0;34m\u001b[0m\u001b[0m\n\u001b[1;32m      2\u001b[0m \u001b[0;32mfrom\u001b[0m \u001b[0mvolgpt_stats\u001b[0m \u001b[0;32mimport\u001b[0m \u001b[0mvolgpt_stats\u001b[0m\u001b[0;34m\u001b[0m\u001b[0;34m\u001b[0m\u001b[0m\n\u001b[0;32m----> 3\u001b[0;31m \u001b[0mgenerated_clean\u001b[0m\u001b[0;34m,\u001b[0m \u001b[0mtest_data_clean\u001b[0m\u001b[0;34m,\u001b[0m \u001b[0mmerged_data\u001b[0m\u001b[0;34m,\u001b[0m \u001b[0mrr_mae\u001b[0m\u001b[0;34m,\u001b[0m \u001b[0mrr_mse\u001b[0m\u001b[0;34m,\u001b[0m \u001b[0mlr_mae\u001b[0m\u001b[0;34m,\u001b[0m \u001b[0mlr_mse\u001b[0m\u001b[0;34m,\u001b[0m \u001b[0mraw_t_stat\u001b[0m\u001b[0;34m,\u001b[0m \u001b[0mraw_p_value\u001b[0m\u001b[0;34m,\u001b[0m \u001b[0mlog_t_stat\u001b[0m\u001b[0;34m,\u001b[0m \u001b[0mlog_p_value\u001b[0m \u001b[0;34m=\u001b[0m \u001b[0mvolgpt_stats\u001b[0m\u001b[0;34m(\u001b[0m\u001b[0mgenerated_text\u001b[0m\u001b[0;34m,\u001b[0m \u001b[0mtest_data\u001b[0m\u001b[0;34m,\u001b[0m \u001b[0mitos\u001b[0m\u001b[0;34m)\u001b[0m\u001b[0;34m\u001b[0m\u001b[0;34m\u001b[0m\u001b[0m\n\u001b[0m\u001b[1;32m      4\u001b[0m \u001b[0;34m\u001b[0m\u001b[0m\n\u001b[1;32m      5\u001b[0m \u001b[0mprint\u001b[0m\u001b[0;34m(\u001b[0m\u001b[0;34m\"Clean generated data: \"\u001b[0m\u001b[0;34m)\u001b[0m\u001b[0;34m\u001b[0m\u001b[0;34m\u001b[0m\u001b[0m\n",
      "\u001b[0;32m~/volgpt/volgpt_stats.py\u001b[0m in \u001b[0;36mvolgpt_stats\u001b[0;34m(generated_text, test_data, itos)\u001b[0m\n\u001b[1;32m     15\u001b[0m \u001b[0;34m\u001b[0m\u001b[0m\n\u001b[1;32m     16\u001b[0m     \u001b[0;31m# use the clean_data function in clean_data.py to clean the preds and the test_data\u001b[0m\u001b[0;34m\u001b[0m\u001b[0;34m\u001b[0m\u001b[0m\n\u001b[0;32m---> 17\u001b[0;31m     \u001b[0m_\u001b[0m\u001b[0;34m,\u001b[0m \u001b[0mgenerated_clean\u001b[0m\u001b[0;34m,\u001b[0m \u001b[0m_\u001b[0m \u001b[0;34m=\u001b[0m \u001b[0mclean_data\u001b[0m\u001b[0;34m(\u001b[0m\u001b[0mgenerated_text\u001b[0m\u001b[0;34m,\u001b[0m \u001b[0mcolumn_names\u001b[0m\u001b[0;34m)\u001b[0m\u001b[0;34m\u001b[0m\u001b[0;34m\u001b[0m\u001b[0m\n\u001b[0m\u001b[1;32m     18\u001b[0m     \u001b[0m_\u001b[0m\u001b[0;34m,\u001b[0m \u001b[0mtest_data_clean\u001b[0m\u001b[0;34m,\u001b[0m \u001b[0m_\u001b[0m \u001b[0;34m=\u001b[0m \u001b[0mclean_data\u001b[0m\u001b[0;34m(\u001b[0m\u001b[0mtest_data_text\u001b[0m\u001b[0;34m,\u001b[0m \u001b[0mcolumn_names\u001b[0m\u001b[0;34m)\u001b[0m\u001b[0;34m\u001b[0m\u001b[0;34m\u001b[0m\u001b[0m\n\u001b[1;32m     19\u001b[0m \u001b[0;34m\u001b[0m\u001b[0m\n",
      "\u001b[0;31mNameError\u001b[0m: name 'clean_data' is not defined"
     ]
    }
   ],
   "source": [
    "# statistical analysis of the generated data\n",
    "from volgpt_stats import volgpt_stats\n",
    "generated_clean, test_data_clean, merged_data, rr_mae, rr_mse, lr_mae, lr_mse, raw_t_stat, raw_p_value, log_t_stat, log_p_value = volgpt_stats(generated_text, test_data, itos)\n",
    "\n",
    "print(\"Clean generated data: \")\n",
    "print(generated_clean)\n",
    "\n",
    "print(\"Clean test data: \")\n",
    "print(test_data_clean)\n",
    "\n",
    "print(\"Merged data: \")\n",
    "print(merged_data)\n",
    "\n",
    "print(\"Generated data date range: \", generated_clean['DateTimeIndex'].min(), \"to\", generated_clean['DateTimeIndex'].max())\n",
    "print(\"Test data date range: \", test_data_clean['DateTimeIndex'].min(), \"to\", test_data_clean['DateTimeIndex'].max())\n",
    "\n",
    "print(f\"Raw returns MSE: {rr_mse:.4f}, MAE: {rr_mae:.4f}\")\n",
    "print(f\"Log returns MSE: {lr_mse:.4f}, MAE: {lr_mae:.4f}\")\n",
    "\n",
    "print(f\"Raw returns paired t-test results: T-statistic = {raw_t_stat:.2f}, p-value = {raw_p_value:.6f}\")\n",
    "print(f\"Log returns paired t-test results: T-statistic = {log_t_stat:.2f}, p-value = {log_p_value:.6f}\")"
   ]
  },
  {
   "cell_type": "code",
   "execution_count": null,
   "metadata": {},
   "outputs": [],
   "source": []
  },
  {
   "cell_type": "code",
   "execution_count": null,
   "metadata": {},
   "outputs": [],
   "source": []
  },
  {
   "cell_type": "code",
   "execution_count": null,
   "metadata": {},
   "outputs": [],
   "source": [
    "# clean preds and test data, where generated data as generated_text and test_data\n",
    "\n",
    "# def tensor_to_string(tensor, itos):\n",
    "#     return ''.join([itos[i] for i in tensor.tolist()])\n",
    "\n",
    "# test_data_text = test_data\n",
    "# column_names = ['DateTimeIndex', 'Ticker', 'CloseBidSize', 'CloseAskSize', 'CloseBidPrice', 'CloseAskPrice', 'WeightedMidPrice', 'rr', 'lr']\n",
    "\n",
    "# # use the itos mapping with the tensor_to_string function to convert the tensors to strings\n",
    "# test_data_text = tensor_to_string(test_data, itos)\n",
    "\n",
    "# # use the clean_data function in clean_data.py to clean the preds and the test_data\n",
    "# _, generated_clean, _ = clean_data(generated_text, column_names)\n",
    "# _, test_data_clean, _ = clean_data(test_data_text, column_names)\n",
    "\n",
    "# print(\"Clean generated data: \")\n",
    "# print(generated_clean)\n",
    "\n",
    "# print(\"Clean test data: \")\n",
    "# print(test_data_clean)"
   ]
  },
  {
   "cell_type": "code",
   "execution_count": null,
   "metadata": {},
   "outputs": [],
   "source": [
    "# ensure the timing of the predictions and the test data are aligned by merging on DateTimeIndex\n",
    "# merged_data = generated_clean.merge(test_data_clean, on='DateTimeIndex', suffixes=('_generated', '_test'))\n",
    "\n",
    "# print(\"Merged data: \")\n",
    "# print(merged_data)"
   ]
  },
  {
   "attachments": {},
   "cell_type": "markdown",
   "metadata": {},
   "source": [
    "# Check merged_data carefully to ensure the data is aligned.  ARe the rr and lr generated values reasonable compared to the test data?\n",
    "\n",
    ">> * ### REMOVE THE SPURIOUS ENTRIES IN THE rr AND lr COLUMNS BY DELETING THOSE ROWS.  RESULTS SHOULD BE PRETTY GOOD THEN "
   ]
  },
  {
   "cell_type": "code",
   "execution_count": null,
   "metadata": {},
   "outputs": [],
   "source": []
  },
  {
   "cell_type": "markdown",
   "metadata": {},
   "source": [
    "> * Comparing the date ranges and the frequency of the timestamps in the generated_clean and test_data_clean DataFrames. I do this by printing the minimum and maximum DateTimeIndex values in both DataFrames:"
   ]
  },
  {
   "cell_type": "code",
   "execution_count": null,
   "metadata": {},
   "outputs": [],
   "source": []
  },
  {
   "cell_type": "code",
   "execution_count": null,
   "metadata": {},
   "outputs": [],
   "source": [
    "# calculate MSE and MAE for the raw returns (rr) and log returns (lr)\n",
    "# from sklearn.metrics import mean_squared_error, mean_absolute_error\n",
    "\n",
    "# rr_mse = mean_squared_error(merged_data['rr_generated'], merged_data['rr_test'])\n",
    "# rr_mae = mean_absolute_error(merged_data['rr_generated'], merged_data['rr_test'])\n",
    "\n",
    "# lr_mse = mean_squared_error(merged_data['lr_generated'], merged_data['lr_test'])\n",
    "# lr_mae = mean_absolute_error(merged_data['lr_generated'], merged_data['lr_test'])\n",
    "\n",
    "# print(f\"Raw returns MSE: {rr_mse:.4f}, MAE: {rr_mae:.4f}\")\n",
    "# print(f\"Log returns MSE: {lr_mse:.4f}, MAE: {lr_mae:.4f}\")\n"
   ]
  },
  {
   "attachments": {},
   "cell_type": "markdown",
   "metadata": {},
   "source": [
    "The Mean Squared Error (MSE) and Mean Absolute Error (MAE) are two common metrics used to evaluate the performance of a model, especially in regression tasks. In this case, these metrics are used to measure the difference between the true values in the test dataset and the values generated by your model.\n",
    "\n",
    "Raw returns:\n",
    "\n",
    "MSE: 36226.3290 - This value represents the average of the squared differences between the true raw returns and the predicted raw returns. A lower value indicates better performance, as the squared differences between the true and predicted values are smaller.\n",
    "MAE: 190.3185 - This value represents the average of the absolute differences between the true raw returns and the predicted raw returns. A lower value indicates better performance, as the absolute differences between the true and predicted values are smaller.\n",
    "Log returns:\n",
    "\n",
    "MSE: 36406.8160 - This value represents the average of the squared differences between the true log returns and the predicted log returns. A lower value indicates better performance, as the squared differences between the true and predicted values are smaller.\n",
    "MAE: 190.7963 - This value represents the average of the absolute differences between the true log returns and the predicted log returns. A lower value indicates better performance, as the absolute differences between the true and predicted values are smaller.\n",
    "In summary, these results show that there are differences between the true values and the predicted values generated by your model. The errors are relatively high, indicating that the model's predictions may not be very accurate. It is essential to compare these results with other models or benchmarks to understand the performance better. Additionally, you can try tuning the model's hyperparameters, using more data, or experimenting with other architectures to improve the model's performance."
   ]
  },
  {
   "cell_type": "markdown",
   "metadata": {},
   "source": [
    "#### Paired t-test\n",
    "\n",
    "I perform a hypothesis test to compare the performance of two models or evaluate the significance of your model's errors, you can use a paired t-test.\n",
    "\n",
    "The paired t-test helps determine if there is a significant difference between the true values and the predicted values. If the p-value is small (typically below 0.05), it suggests that the difference is significant, and the model's errors are not likely due to random chance."
   ]
  },
  {
   "cell_type": "code",
   "execution_count": null,
   "metadata": {},
   "outputs": [],
   "source": [
    "# # Import the required libraries\n",
    "# from scipy import stats\n",
    "\n",
    "# # Get the true and predicted raw returns and log returns\n",
    "# true_raw_returns = merged_data['rr_test']\n",
    "# predicted_raw_returns = merged_data['rr_generated']\n",
    "\n",
    "# true_log_returns = merged_data['lr_test']\n",
    "# predicted_log_returns = merged_data['lr_generated']\n",
    "\n",
    "# # Perform paired t-tests\n",
    "# raw_t_stat, raw_p_value = stats.ttest_rel(true_raw_returns, predicted_raw_returns)\n",
    "# log_t_stat, log_p_value = stats.ttest_rel(true_log_returns, predicted_log_returns)\n",
    "\n",
    "# # Print the results\n",
    "# print(f\"Raw returns paired t-test results: T-statistic = {raw_t_stat:.2f}, p-value = {raw_p_value:.6f}\")\n",
    "# print(f\"Log returns paired t-test results: T-statistic = {log_t_stat:.2f}, p-value = {log_p_value:.6f}\")\n"
   ]
  },
  {
   "attachments": {},
   "cell_type": "markdown",
   "metadata": {},
   "source": [
    "#### Results from first run of the code\n",
    "\n",
    "> * Raw returns paired t-test results: T-statistic = -83.41, p-value = 0.007632\n",
    "> * Log returns paired t-test results: T-statistic = -100.75, p-value = 0.006318"
   ]
  },
  {
   "cell_type": "markdown",
   "metadata": {},
   "source": [
    "The paired t-test results for both raw returns and log returns show that there is a statistically significant difference between the true values and the predicted values generated by the model.\n",
    "\n",
    "The T-statistic for raw returns is -83.41, and the associated p-value is 0.007632. Since the p-value is less than 0.05, we can reject the null hypothesis that there is no significant difference between the true raw returns and the predicted raw returns.\n",
    "\n",
    "Similarly, the T-statistic for log returns is -100.75, and the associated p-value is 0.006318. This p-value is also less than 0.05, so we can reject the null hypothesis that there is no significant difference between the true log returns and the predicted log returns.\n",
    "\n",
    "In summary, these results indicate that the model's predictions for both raw returns and log returns are significantly different from the true values. However, it is important to note that a statistically significant difference does not necessarily imply good or bad performance. It merely suggests that the differences between the true and predicted values are not due to chance alone. You should also consider other performance metrics and qualitative factors when evaluating the performance of the model."
   ]
  },
  {
   "cell_type": "code",
   "execution_count": null,
   "metadata": {},
   "outputs": [],
   "source": []
  },
  {
   "cell_type": "markdown",
   "metadata": {},
   "source": [
    "# References"
   ]
  },
  {
   "cell_type": "markdown",
   "metadata": {},
   "source": [
    "Bollerslev, T., Hood, B., Huss, J., Pedersen, L.H. (2017). Risk Everywhere: Modeling and Managing Volatility. Available at SSRN: https://ssrn.com/abstract=2722591"
   ]
  },
  {
   "attachments": {},
   "cell_type": "markdown",
   "metadata": {},
   "source": [
    "Calvet, L.E. & Fisher, A.J. (2008).  Multifractal Volatility Theory, Forecasting, and Pricing.  Elsevier, Academic Press."
   ]
  },
  {
   "attachments": {},
   "cell_type": "markdown",
   "metadata": {},
   "source": [
    "__[Colab for Kaparthy's video](https://colab.research.google.com/drive/1JMLa53HDuA-i7ZBmqV7ZnA3c_fvtXnx-?usp=sharing)__"
   ]
  },
  {
   "attachments": {},
   "cell_type": "markdown",
   "metadata": {},
   "source": [
    "__[Kaparthy's nanoGPT GitHub repo](https://github.com/karpathy/nanoGPT)__"
   ]
  },
  {
   "attachments": {},
   "cell_type": "markdown",
   "metadata": {},
   "source": [
    "__[Kaparthy's Youtube video](https://www.youtube.com/watch?v=kCc8FmEb1nY)__"
   ]
  },
  {
   "attachments": {},
   "cell_type": "markdown",
   "metadata": {},
   "source": [
    "Stoikov, S. (2020). The micro-price: A high frequency estimator of future prices. Available at SSRN: https://ssrn.com/abstract=2970694."
   ]
  },
  {
   "attachments": {},
   "cell_type": "markdown",
   "metadata": {},
   "source": [
    "Vaswani, A., et al. (2017).  Attention Is All You Need. arXiv:1706.03762"
   ]
  },
  {
   "attachments": {},
   "cell_type": "markdown",
   "metadata": {},
   "source": [
    "***\n",
    "End"
   ]
  }
 ],
 "metadata": {
  "kernelspec": {
   "display_name": "lambda-stack-with-tensorflow-pytorch",
   "language": "python",
   "name": "python3"
  },
  "language_info": {
   "codemirror_mode": {
    "name": "ipython",
    "version": 3
   },
   "file_extension": ".py",
   "mimetype": "text/x-python",
   "name": "python",
   "nbconvert_exporter": "python",
   "pygments_lexer": "ipython3",
   "version": "3.10.6"
  },
  "vscode": {
   "interpreter": {
    "hash": "11a6b461d03d31d9728b6e25f5720dae24983f1269632555e56c55b1d440e892"
   }
  }
 },
 "nbformat": 4,
 "nbformat_minor": 4
}
